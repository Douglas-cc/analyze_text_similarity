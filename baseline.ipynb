{
 "cells": [
  {
   "cell_type": "code",
   "execution_count": 1,
   "metadata": {},
   "outputs": [],
   "source": [
    "import re\n",
    "import numpy as np\n",
    "import pandas as pd \n",
    "\n",
    "from sklearn.metrics import classification_report"
   ]
  },
  {
   "cell_type": "markdown",
   "metadata": {},
   "source": [
    "# Import data"
   ]
  },
  {
   "cell_type": "markdown",
   "metadata": {},
   "source": [
    "- Dataset principal"
   ]
  },
  {
   "cell_type": "code",
   "execution_count": 2,
   "metadata": {},
   "outputs": [],
   "source": [
    "df = pd.read_csv('data/dados-pacote-cirurgico-2022-02-08 10_30_25.csv', sep=';', encoding='iso8859-1')\n",
    "\n",
    "df = df.rename(columns={'Descrição do Item':'itens'})\n",
    "\n",
    "itens = df['itens'].unique()"
   ]
  },
  {
   "cell_type": "markdown",
   "metadata": {},
   "source": [
    "- Dataset de validação"
   ]
  },
  {
   "cell_type": "code",
   "execution_count": null,
   "metadata": {},
   "outputs": [],
   "source": []
  },
  {
   "cell_type": "markdown",
   "metadata": {},
   "source": [
    "# Baseline "
   ]
  },
  {
   "cell_type": "code",
   "execution_count": 3,
   "metadata": {},
   "outputs": [],
   "source": [
    "def baseline_similarity(word, regex, itens):\n",
    "    \n",
    "    itens_similarity = []\n",
    "    \n",
    "    for string in itens:\n",
    "        for match in regex.finditer(string.strip()):\n",
    "            if word == match.group(1):\n",
    "                itens_similarity.append(string)\n",
    "                \n",
    "    return itens_similarity"
   ]
  },
  {
   "cell_type": "markdown",
   "metadata": {},
   "source": [
    "- Fio Cirurgico Mononylion"
   ]
  },
  {
   "cell_type": "code",
   "execution_count": 22,
   "metadata": {},
   "outputs": [
    {
     "data": {
      "text/plain": [
       "['FIO CIRURGICO MONONYLON P1663 T 3-0 - JOHNSON E JOHNSON',\n",
       " 'FIO CIRURGICO MONONYLON P1662 T 4-0 - JOHNSON & JOHNSON',\n",
       " 'FIO CIRURGICO MONONYLON P1664 T 4-0 - JOHNSON & JOHNSON',\n",
       " 'FIO CIRURGICO MONONYLON 1163 T  3-0',\n",
       " 'FIO CIRURGICO MONONYLON 1215 T 2-0 - JOHNSON & JOHNSON',\n",
       " 'FIO CIRURGICO MONONYLON 14503T T 3-0',\n",
       " 'FIO CIRURGICO MONONYLON P1602 T 5-0 - JOHNSON & JOHNSON',\n",
       " 'FIO CIRURGICO MONONYLON P1611 T 4-0 - JOHNSON E JOHNSON',\n",
       " 'FIO CIRURGICO MONONYLON P1661 T 5-0 - JOHNSON & JOHNSON',\n",
       " 'FIO CIRURGICO MONONYLON P1666 T 5-0 - JOHNSON & JOHNSON']"
      ]
     },
     "execution_count": 22,
     "metadata": {},
     "output_type": "execute_result"
    }
   ],
   "source": [
    "regex = re.compile(r'\\b(\\w+\\s+\\w+\\s+\\w+)\\b')\n",
    "word = 'FIO CIRURGICO MONONYLON'\n",
    "\n",
    "fio_mononylion = baseline_similarity('FIO CIRURGICO MONONYLON', regex, itens)\n",
    "\n",
    "fio_mononylion"
   ]
  },
  {
   "cell_type": "code",
   "execution_count": 10,
   "metadata": {},
   "outputs": [
    {
     "data": {
      "text/plain": [
       "10"
      ]
     },
     "execution_count": 10,
     "metadata": {},
     "output_type": "execute_result"
    }
   ],
   "source": [
    "len(fio_mononylion)"
   ]
  },
  {
   "cell_type": "markdown",
   "metadata": {},
   "source": [
    "- Fio Cirurgico Seda"
   ]
  },
  {
   "cell_type": "code",
   "execution_count": 12,
   "metadata": {},
   "outputs": [],
   "source": [
    "regex = re.compile(r'\\b(\\w+\\s+\\w+\\s+\\w+)\\b')\n",
    "\n",
    "fio_seda = baseline_similarity('FIO CIRURGICO SEDA', regex, itens)"
   ]
  },
  {
   "cell_type": "code",
   "execution_count": 14,
   "metadata": {},
   "outputs": [
    {
     "data": {
      "text/plain": [
       "5"
      ]
     },
     "execution_count": 14,
     "metadata": {},
     "output_type": "execute_result"
    }
   ],
   "source": [
    "len(fio_seda)"
   ]
  },
  {
   "cell_type": "markdown",
   "metadata": {},
   "source": [
    "- Tubo Endotraqueal"
   ]
  },
  {
   "cell_type": "code",
   "execution_count": 18,
   "metadata": {},
   "outputs": [
    {
     "data": {
      "text/plain": [
       "['TUBO ENDOTRAQUEAL ARAMADO C/BALAO - 7.5 - MALLINCKRODT',\n",
       " 'TUBO ENDOTRAQUEAL TAPERGUARD C/BALAO 8.0 - MALLINCKRODT',\n",
       " 'TUBO ENDOTRAQUEAL TAPERGUARD C/BALAO 8.5 - MALLINCKRODT',\n",
       " 'TUBO ENDOTRAQUEAL TAPERGUARD C/BALAO 7.0 - MALLINCKRODT',\n",
       " 'TUBO ENDOTRAQUEAL S/BALAO 3.5 - MALLINCKRODT',\n",
       " 'TUBO ENDOTRAQUEAL C/BALAO 4.0 - MALLINCKRODT',\n",
       " 'TUBO ENDOTRAQUEAL TAPERGUARD C/BALAO 7.5 - MALLINCKRODT',\n",
       " 'TUBO ENDOTRAQUEAL TAPERGUARD C/BALAO 5.5 - MALLINCKRODT',\n",
       " 'TUBO ENDOTRAQUEAL TAPERGUARD C/BALAO 6.0 - MALLINCKRODT',\n",
       " 'TUBO ENDOTRAQUEAL C/BALAO 3.5 - MALLINCKRODT',\n",
       " 'TUBO ENDOTRAQUEAL C/BALAO 4.5 - MALLINCKRODT',\n",
       " 'TUBO ENDOTRAQUEAL TAPERGUARD C/BALAO 5.0 - MALLINCKRODT',\n",
       " 'TUBO ENDOTRAQUEAL TAPERGUARD C/BALAO 9.0 - MALLINCKRODT',\n",
       " 'TUBO ENDOTRAQUEAL ARAMADO C/BALAO - 7.0 - MALLINCKRODT',\n",
       " 'TUBO ENDOTRAQUEAL S/BALAO 3.0 - MALLINCKRODT',\n",
       " 'TUBO ENDOTRAQUEAL ARAMADO C/BALAO - 8.5 - MALLINCKRODT',\n",
       " 'TUBO ENDOTRAQUEAL C/BALAO 3.0 - MALLINCKRODT',\n",
       " 'TUBO ENDOTRAQUEAL ARAMADO C/BALAO - 6.5 - MALLINCKRODT',\n",
       " 'TUBO ENDOTRAQUEAL S/BALAO 2.5 - MALLINCKRODT',\n",
       " 'TUBO ENDOTRAQUEAL ARAMADO S/BALAO - 3.5',\n",
       " 'TUBO ENDOTRAQUEAL ARAMADO S/ BALAO - 3.0',\n",
       " 'TUBO ENDOTRAQUEAL TAPERGUARD C/BALAO 6.5 - MALLINCKRODT']"
      ]
     },
     "execution_count": 18,
     "metadata": {},
     "output_type": "execute_result"
    }
   ],
   "source": [
    "regex = re.compile(r'\\b(\\w+\\s+\\w+)\\b')\n",
    "\n",
    "tubo_endotraqueal = baseline_similarity('TUBO ENDOTRAQUEAL', regex, itens)\n",
    "\n",
    "tubo_endotraqueal"
   ]
  },
  {
   "cell_type": "code",
   "execution_count": 17,
   "metadata": {},
   "outputs": [
    {
     "data": {
      "text/plain": [
       "22"
      ]
     },
     "execution_count": 17,
     "metadata": {},
     "output_type": "execute_result"
    }
   ],
   "source": [
    "len(tubo_endotraqueal)"
   ]
  },
  {
   "cell_type": "markdown",
   "metadata": {},
   "source": [
    "- Fio Cirurgico Prolene "
   ]
  },
  {
   "cell_type": "code",
   "execution_count": 20,
   "metadata": {},
   "outputs": [
    {
     "data": {
      "text/plain": [
       "['FIO CIRURGICO PROLENE P8682 T 4-0 - JOHNSON & JOHNSON',\n",
       " 'FIO CIRURGICO PROLENE 8822 T 3-0 - JOHNSON & JOHNSON',\n",
       " 'FIO CIRURGICO PROLENE 9523 T 2-0 - JOHNSON & JOHNSON',\n",
       " 'FIO CIRURGICO PROLENE 8707 T 6-0 - JOHNSON & JOHNSON',\n",
       " 'FIO CIRURGICO PROLENE 9556 T 5-0 - JOHNSON & JOHNSON',\n",
       " 'FIO CIRURGICO PROLENE M8703 T 7-0 - JOHNSON & JOHNSON',\n",
       " 'FIO CIRURGICO PROLENE 9521 T 4-0 - JOHNSON & JOHNSON',\n",
       " 'FIO CIRURGICO PROLENE 8512 T 3-0 - JOHNSON & JOHNSON',\n",
       " 'FIO CIRURGICO PROLENE 9557 T 4-0 - JOHNSON & JOHNSON',\n",
       " 'FIO CIRURGICO PROLENE 8424 T 0 - JOHNSON & JOHNSON',\n",
       " 'FIO CIRURGICO PROLENE AZUL 8513T 2-0',\n",
       " 'FIO CIRURGICO PROLENE AZUL 8411 T 2-0 CT-2 PLUS 26MM',\n",
       " 'FIO CIRURGICO PROLENE 8704 T 7-0 - JOHNSON & JOHNSON',\n",
       " 'FIO CIRURGICO PROLENE 8730 T 8-0']"
      ]
     },
     "execution_count": 20,
     "metadata": {},
     "output_type": "execute_result"
    }
   ],
   "source": [
    "regex = re.compile(r'\\b(\\w+\\s+\\w+\\s+\\w+)\\b')\n",
    "\n",
    "fio_prolne = baseline_similarity('FIO CIRURGICO PROLENE', regex, itens)\n",
    "\n",
    "fio_prolne"
   ]
  },
  {
   "cell_type": "code",
   "execution_count": 21,
   "metadata": {},
   "outputs": [
    {
     "data": {
      "text/plain": [
       "14"
      ]
     },
     "execution_count": 21,
     "metadata": {},
     "output_type": "execute_result"
    }
   ],
   "source": [
    "len(fio_prolne)"
   ]
  }
 ],
 "metadata": {
  "interpreter": {
   "hash": "916dbcbb3f70747c44a77c7bcd40155683ae19c65e1c03b4aa3499c5328201f1"
  },
  "kernelspec": {
   "display_name": "Python 3.8.10 64-bit",
   "language": "python",
   "name": "python3"
  },
  "language_info": {
   "codemirror_mode": {
    "name": "ipython",
    "version": 3
   },
   "file_extension": ".py",
   "mimetype": "text/x-python",
   "name": "python",
   "nbconvert_exporter": "python",
   "pygments_lexer": "ipython3",
   "version": "3.8.10"
  },
  "orig_nbformat": 4
 },
 "nbformat": 4,
 "nbformat_minor": 2
}
