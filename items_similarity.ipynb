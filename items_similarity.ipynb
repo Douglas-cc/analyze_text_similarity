{
 "cells": [
  {
   "cell_type": "code",
   "execution_count": 1,
   "metadata": {},
   "outputs": [],
   "source": [
    "import re\n",
    "import numpy as np\n",
    "import pandas as pd \n",
    "import missingno as msno\n",
    "from text_similarity import *\n",
    "\n",
    "from nltk.corpus import stopwords\n",
    "portugues_stops = stopwords.words('portuguese')\n",
    "\n",
    "portugues_stops.append('&')\n",
    "\n",
    "# mas possivelmente remover com expresões regulares\n",
    "portugues_stops.append('fio')\n",
    "portugues_stops.append('cirurgico')\n",
    "\n",
    "portugues_stops = [i.upper() for i in portugues_stops] \n",
    "\n",
    "from sklearn.preprocessing import Binarizer\n",
    "from sklearn.metrics import confusion_matrix"
   ]
  },
  {
   "cell_type": "markdown",
   "metadata": {},
   "source": [
    "# Importar os dados"
   ]
  },
  {
   "cell_type": "code",
   "execution_count": 2,
   "metadata": {},
   "outputs": [],
   "source": [
    "df = pd.read_csv('data/dados-pacote-cirurgico-2022-02-08 10_30_25.csv', sep=';', encoding='iso8859-1')"
   ]
  },
  {
   "cell_type": "markdown",
   "metadata": {},
   "source": [
    "-  Remover espaços desnecessarios e '*'"
   ]
  },
  {
   "cell_type": "code",
   "execution_count": 3,
   "metadata": {},
   "outputs": [],
   "source": [
    "size = df['Descrição do Item'].shape[0]\n",
    "\n",
    "df['Descrição do Item'] = [df['Descrição do Item'][i].replace('*', '').strip() for i in range(size)]\n",
    "df['Descrição do Item'] = [re.sub(' +',' ', df['Descrição do Item'][i]) for i in range(size)]"
   ]
  },
  {
   "cell_type": "markdown",
   "metadata": {},
   "source": [
    "- Pegar itens unicos"
   ]
  },
  {
   "cell_type": "code",
   "execution_count": null,
   "metadata": {},
   "outputs": [],
   "source": [
    "descricao_itens = df['Descrição do Item'].unique()"
   ]
  },
  {
   "cell_type": "markdown",
   "metadata": {},
   "source": [
    "- Remover stopwords"
   ]
  },
  {
   "cell_type": "code",
   "execution_count": null,
   "metadata": {},
   "outputs": [],
   "source": [
    "itens = pd.Series(descricao_itens).apply(lambda item: remove_stowords(item, portugues_stops))"
   ]
  },
  {
   "cell_type": "code",
   "execution_count": null,
   "metadata": {},
   "outputs": [],
   "source": [
    "itens[itens == 'MONONYLON P1662 T 4-0 - JOHNSON JOHNSON']"
   ]
  },
  {
   "cell_type": "markdown",
   "metadata": {},
   "source": [
    "# Matriz de similaridade"
   ]
  },
  {
   "cell_type": "markdown",
   "metadata": {},
   "source": [
    "- Gernado a Matriz de similaridade de Jaro"
   ]
  },
  {
   "cell_type": "code",
   "execution_count": null,
   "metadata": {},
   "outputs": [],
   "source": [
    "matriz_jaro = similarity_matrix(np.array(itens), metric = 'jaro_winkler')"
   ]
  },
  {
   "cell_type": "markdown",
   "metadata": {},
   "source": [
    "- Convertendo matriz de similaridade para Dataframe"
   ]
  },
  {
   "cell_type": "code",
   "execution_count": null,
   "metadata": {},
   "outputs": [],
   "source": [
    "matriz_similaridade = pd.DataFrame(matriz_jaro, index=descricao_itens, columns=descricao_itens) "
   ]
  },
  {
   "cell_type": "code",
   "execution_count": null,
   "metadata": {},
   "outputs": [],
   "source": [
    "matriz_similaridade"
   ]
  },
  {
   "cell_type": "markdown",
   "metadata": {},
   "source": [
    "- Converter Matriz para dataframe"
   ]
  },
  {
   "cell_type": "code",
   "execution_count": null,
   "metadata": {},
   "outputs": [],
   "source": [
    "df_similaridade = matriz_similaridade.unstack().reset_index().dropna()\n",
    "\n",
    "df_similaridade.rename(columns = {'level_0': 'item_A', 'level_1': 'item_B', 0:'valor_similaridade'}, inplace = True)\n",
    "\n",
    "df_similaridade"
   ]
  },
  {
   "cell_type": "markdown",
   "metadata": {},
   "source": [
    "## Binarizer"
   ]
  },
  {
   "cell_type": "code",
   "execution_count": null,
   "metadata": {},
   "outputs": [],
   "source": [
    "df_similaridade['similares'] = Binarizer(threshold=0.8).fit_transform(df_similaridade[['valor_similaridade']])"
   ]
  },
  {
   "cell_type": "code",
   "execution_count": null,
   "metadata": {},
   "outputs": [],
   "source": [
    "df_similaridade"
   ]
  },
  {
   "cell_type": "code",
   "execution_count": null,
   "metadata": {},
   "outputs": [],
   "source": [
    "bins = [-1, 0.1, 0.2, 0.3, 0.4, 0.5, 0.6, 0.7, 0.8, 0.9, 1.0]\n",
    "\n",
    "labels = [\n",
    "    \"00 -| 10\", \"11 -| 20\", \"21 -| 30\", \"31 -| 40\", \"41 -| 50\", \n",
    "    \"51 -| 60\", \"61 -| 70\", \"71 -| 80\", \"81 -| 90\", \"91 -| 100\"\n",
    "]\n",
    "\n",
    "df_similaridade['classe'] = creat_class(df_similaridade['valor_similaridade'],bins, labels)"
   ]
  },
  {
   "cell_type": "markdown",
   "metadata": {},
   "source": [
    "# Explorando os Resultados"
   ]
  },
  {
   "cell_type": "markdown",
   "metadata": {},
   "source": [
    "### FIlrar por valores de similaridade"
   ]
  },
  {
   "cell_type": "markdown",
   "metadata": {},
   "source": [
    "- Remover valores de 1.0 e 0.0"
   ]
  },
  {
   "cell_type": "code",
   "execution_count": null,
   "metadata": {},
   "outputs": [],
   "source": [
    "df_similaridade = df_similaridade.query('valor_similaridade > 0 and valor_similaridade < 1.0')\n",
    "df_similaridade.head()"
   ]
  },
  {
   "cell_type": "markdown",
   "metadata": {},
   "source": [
    "- Pegar similaridade de 90%"
   ]
  },
  {
   "cell_type": "code",
   "execution_count": null,
   "metadata": {},
   "outputs": [],
   "source": [
    "df_similaridade.query('valor_similaridade >= 0.9')"
   ]
  },
  {
   "cell_type": "markdown",
   "metadata": {},
   "source": [
    "- Pegar similaridade de 80%"
   ]
  },
  {
   "cell_type": "code",
   "execution_count": null,
   "metadata": {},
   "outputs": [],
   "source": [
    "df_similaridade.query('valor_similaridade >= 0.8')"
   ]
  },
  {
   "cell_type": "markdown",
   "metadata": {},
   "source": [
    "### Analisar por Grupos "
   ]
  },
  {
   "cell_type": "code",
   "execution_count": null,
   "metadata": {},
   "outputs": [],
   "source": [
    "cateter_cetrofix = [\n",
    "    'CATETER CERTOFIX DUO PAED S420 G22,22 20CM 4166949',\n",
    "    'CATETER CERTOFIX MONO PAED S110 G22 10CM 4160177'\n",
    "]\n",
    "\n",
    "cateter_venoso = [\n",
    "    'CATETER VENOSO PERIFERICO 22G - AUTOGUARD 381823 BD',\n",
    "    'CATETER VENOSO PERIFERICO 24G - AUTOGUARD 381812 BD'\n",
    "    'CATETER INTRAVASCULAR PERIFERICO JELCO 22GX25MM AZUL - SMITH'\n",
    "]\n",
    "\n",
    "coletor = [\n",
    "    'COLETOR DE URINA INFANTIL SISTEMA FECHADO - PSIMON',\n",
    "    'COLETOR DE  URINA SISTEMA FECHADO URIFLOW 2000ML - CREMER',\n",
    "    'COLETOR DE  URINA SISTEMA ABERTO - EMBRAMED',\n",
    "    'COLETOR DE URINA INFANTIL SISTEMA FECHADO - PSIMON'\n",
    "]\n",
    "\n",
    "fio_monolion = [\n",
    "    'FIO CIRURGICO MONONYLON P1662 T 4-0 - JOHNSON & JOHNSON',\n",
    "    'FIO CIRURGICO MONONYLON P1664 T 4-0 - JOHNSON & JOHNSON',\n",
    "    'FIO CIRURGICO MONONYLON P1663 T 3-0 - JOHNSON E JOHNSON',\n",
    "    'FIO CIRURGICO MONONYLON 1215 T 2-0 - JOHNSON & JOHNSON'\n",
    "]\n",
    "\n",
    "fio_prolene = [\n",
    "    'FIO CIRURGICO PROLENE 8707 T 6-0 - JOHNSON & JOHNSON',\n",
    "    'FIO CIRURGICO PROLENE 9556 T 5-0 - JOHNSON & JOHNSON',\n",
    "    'FIO CIRURGICO PROLENE M8703 T 7-0 - JOHNSON & JOHNSON',\n",
    "    'FIO CIRURGICO PROLENE 8704 T 7-0 - JOHNSON & JOHNSON',\n",
    "    'FIO CIRURGICO PROLENE 8730 T 8-0'\n",
    "]\n",
    "\n",
    "fio_seda = [\n",
    "    'FIO CIRURGICO SEDA G813 T 2-0 - JOHNSON & JOHNSON',\n",
    "    'FIO CIRURGICO SEDA SSP15 T-0'\n",
    "    'FIO CIRURGICO SEDA SSP13 T 3-0 - JOHNSON & JOHNSON'\n",
    "    'FIO CIRURGICO SEDA SSP14 T 2-0 - JOHNSON E JOHNSON'\n",
    "]\n",
    "\n",
    "\n",
    "fio_vicryl = [\n",
    "    'FIO CIRURGICO VICRYL VCP316 H - JOHNSON & JOHNSON',\n",
    "    'FIO CIRURGICO VICRYL VCP340 H 0 - JOHNSON & JOHNSON'\n",
    "]\n",
    "\n",
    "bisturi = [\n",
    "    'LAMINA DE BISTURI NR 11 ESTERIL - B. BRAUN',\n",
    "    'LAMINA DE BISTURI NR 15 ESTERIL - B. BRAUN',\n",
    "    'LAMINA DE BISTURI NR 21 ESTERIL - B. BRAUN'\n",
    "]\n",
    "\n",
    "perfursor =[\n",
    "    'PERFUSOR SET 120CM - B. BRAUN',\n",
    "    'PERFUSOR SET 20CM - B. BRAUN'\n",
    "]\n",
    "\n",
    "cauterio = [\n",
    "    'PLACA DE CAUTERIO INFANTIL SEM CABO REF: 1146 - 3M', \n",
    "    'PLACA ELETROCIRURGICA PARA PACIENTE AUTOADESIVA RN'\n",
    "]\n",
    "\n",
    "frauda = [\n",
    "    'FRALDA NEONATAL TAM. PP (0 A 3,5KG)',\n",
    "    'FRALDA INFANTIL P (ATE 6KG)',\n",
    "    'FRALDA INFANTIL EG (ACIMA DE 12KG)',\n",
    "    'FRALDA INFANTIL M (DE 6 A 10KG)',\n",
    "    'FRALDA PROTEK XXG 14 A 18 KG'\n",
    "]\n",
    "\n",
    "sonda = [\n",
    "    'SONDA FOLEY 2 VIAS 06 SILICONE - RUSCH',\n",
    "    'SONDA FOLEY 2 VIAS 08 BALAO 30 - RUSCH',\n",
    "    'SONDA FOLEY 2 VIAS 08 SILICONE - RUSCH'\n",
    "]\n",
    "\n",
    "tubo_endotraqueal = [\n",
    "    'TUBO ENDOTRAQUEAL S/BALAO 3.0 - MALLINCKRODT',\n",
    "    'TUBO ENDOTRAQUEAL S/BALAO 4.0 - MALLINCKRODT',\n",
    "    'TUBO ENDOTRAQUEAL S/BALAO 3.5 - MALLINCKRODT',\n",
    "    'TUBO ENDOTRAQUEAL C/BALAO 4.0 - MALLINCKRODT'\n",
    "]\n",
    "\n",
    "sistema_drenagem = [\n",
    "    'SISTEMA DRENAGEM MEDIASTINAL Nº 10 250ML',\n",
    "    'SISTEMA DRENAGEM MEDIASTINAL Nº 12 250ML',\n",
    "    'SISTEMA DRENAGEM MEDIASTINAL Nº 16 2000ML P.SIMON',\n",
    "    'SISTEMA DRENAGEM MEDIASTINAL Nº 18 2000ML P.SIMON'\n",
    "]"
   ]
  },
  {
   "cell_type": "markdown",
   "metadata": {},
   "source": [
    "- Filtro cateter cetrofix"
   ]
  },
  {
   "cell_type": "code",
   "execution_count": null,
   "metadata": {},
   "outputs": [],
   "source": [
    "df_similaridade[df_similaridade['item_B'].isin(cateter_cetrofix)].query('valor_similaridade >= 0.9')"
   ]
  },
  {
   "cell_type": "code",
   "execution_count": null,
   "metadata": {},
   "outputs": [],
   "source": [
    "df_similaridade[df_similaridade['item_B'].isin(cateter_cetrofix)].query('valor_similaridade >= 0.8')"
   ]
  },
  {
   "cell_type": "markdown",
   "metadata": {},
   "source": [
    "- Filtro cateter venoso"
   ]
  },
  {
   "cell_type": "code",
   "execution_count": null,
   "metadata": {},
   "outputs": [],
   "source": [
    "df_similaridade[df_similaridade['item_B'].isin(cateter_venoso)].query('valor_similaridade >= 0.9')"
   ]
  },
  {
   "cell_type": "code",
   "execution_count": null,
   "metadata": {},
   "outputs": [],
   "source": [
    "df_similaridade[df_similaridade['item_B'].isin(['CATETER INTRAVASCULAR PERIFERICO JELCO 22GX25MM AZUL - SMITH'])].query('similares != 0')"
   ]
  },
  {
   "cell_type": "markdown",
   "metadata": {},
   "source": [
    "- Filtro Coletor"
   ]
  },
  {
   "cell_type": "code",
   "execution_count": null,
   "metadata": {},
   "outputs": [],
   "source": [
    "df_similaridade[df_similaridade['item_B'].isin(coletor)].query('valor_similaridade >= 0.9')"
   ]
  },
  {
   "cell_type": "code",
   "execution_count": null,
   "metadata": {},
   "outputs": [],
   "source": [
    "df_similaridade[df_similaridade['item_B'].isin(coletor)].query('valor_similaridade >= 0.8')"
   ]
  },
  {
   "cell_type": "markdown",
   "metadata": {},
   "source": [
    "- Filtro fio Prolene"
   ]
  },
  {
   "cell_type": "code",
   "execution_count": null,
   "metadata": {},
   "outputs": [],
   "source": [
    "df_similaridade[df_similaridade['item_B'].isin(fio_prolene)].query('valor_similaridade >= 0.9')"
   ]
  },
  {
   "cell_type": "code",
   "execution_count": null,
   "metadata": {},
   "outputs": [],
   "source": [
    "df_similaridade[df_similaridade['item_B'].isin(fio_prolene)].query('valor_similaridade >= 0.8 and valor_similaridade <= 0.9')"
   ]
  },
  {
   "cell_type": "markdown",
   "metadata": {},
   "source": [
    "- Filtro Fio seda"
   ]
  },
  {
   "cell_type": "code",
   "execution_count": null,
   "metadata": {},
   "outputs": [],
   "source": [
    "df_similaridade[df_similaridade['item_B'].isin(fio_seda)].query('valor_similaridade >= 0.9')"
   ]
  },
  {
   "cell_type": "code",
   "execution_count": null,
   "metadata": {},
   "outputs": [],
   "source": [
    "df_similaridade[df_similaridade['item_B'].isin(fio_seda)].query('valor_similaridade >= 0.8 and valor_similaridade <= 0.9')"
   ]
  },
  {
   "cell_type": "code",
   "execution_count": null,
   "metadata": {},
   "outputs": [],
   "source": [
    "df_similaridade[df_similaridade['item_B'].isin(['FIO CIRURGICO SEDA SSP15 T-0'])].query('similares != 0')"
   ]
  },
  {
   "cell_type": "code",
   "execution_count": null,
   "metadata": {},
   "outputs": [],
   "source": [
    "df_fio_seda_08 == 'FIO CIRURGICO SEDA SSP15 T-0'"
   ]
  },
  {
   "cell_type": "markdown",
   "metadata": {},
   "source": [
    "- Filtro Fio Vicryl"
   ]
  },
  {
   "cell_type": "code",
   "execution_count": null,
   "metadata": {},
   "outputs": [],
   "source": [
    "df_similaridade[df_similaridade['item_B'].isin(fio_vicryl)].query('valor_similaridade >= 0.9')"
   ]
  },
  {
   "cell_type": "code",
   "execution_count": null,
   "metadata": {},
   "outputs": [],
   "source": [
    "df_similaridade[df_similaridade['item_B'].isin(fio_vicryl)].query('valor_similaridade >= 0.8')"
   ]
  },
  {
   "cell_type": "markdown",
   "metadata": {},
   "source": [
    "- Filtro bisturi"
   ]
  },
  {
   "cell_type": "code",
   "execution_count": null,
   "metadata": {},
   "outputs": [],
   "source": [
    "df_similaridade[df_similaridade['item_B'].isin(bisturi)].query('valor_similaridade >= 0.9')"
   ]
  },
  {
   "cell_type": "code",
   "execution_count": null,
   "metadata": {},
   "outputs": [],
   "source": [
    "df_similaridade[df_similaridade['item_B'].isin(bisturi)].query('valor_similaridade >= 0.8')"
   ]
  },
  {
   "cell_type": "markdown",
   "metadata": {},
   "source": [
    "- Filtro Perfursor"
   ]
  },
  {
   "cell_type": "code",
   "execution_count": null,
   "metadata": {},
   "outputs": [],
   "source": [
    "df_similaridade[df_similaridade['item_B'].isin(perfursor)].query('valor_similaridade >= 0.9')"
   ]
  },
  {
   "cell_type": "code",
   "execution_count": null,
   "metadata": {},
   "outputs": [],
   "source": [
    "df_similaridade[df_similaridade['item_B'].isin(perfursor)].query('valor_similaridade >= 0.8')"
   ]
  },
  {
   "cell_type": "markdown",
   "metadata": {},
   "source": [
    "- Fltro Cauterio"
   ]
  },
  {
   "cell_type": "code",
   "execution_count": null,
   "metadata": {},
   "outputs": [],
   "source": [
    "df_similaridade[df_similaridade['item_B'].isin(cauterio)].query('valor_similaridade >= 0.9')"
   ]
  },
  {
   "cell_type": "code",
   "execution_count": null,
   "metadata": {},
   "outputs": [],
   "source": [
    "df_similaridade[df_similaridade['item_B'].isin(cauterio)].query('valor_similaridade >= 0.8')"
   ]
  },
  {
   "cell_type": "markdown",
   "metadata": {},
   "source": [
    "- Filtro tubo endotraqueal"
   ]
  },
  {
   "cell_type": "code",
   "execution_count": null,
   "metadata": {},
   "outputs": [],
   "source": [
    "df_similaridade[df_similaridade['item_B'].isin(tubo_endotraqueal)].query('valor_similaridade >= 0.9')\n"
   ]
  },
  {
   "cell_type": "code",
   "execution_count": null,
   "metadata": {},
   "outputs": [],
   "source": [
    "df_similaridade[df_similaridade['item_B'].isin(tubo_endotraqueal)].query('valor_similaridade >= 0.8')"
   ]
  },
  {
   "cell_type": "markdown",
   "metadata": {},
   "source": [
    "- Filtrando fio monolion"
   ]
  },
  {
   "cell_type": "code",
   "execution_count": null,
   "metadata": {},
   "outputs": [],
   "source": [
    "df_similaridade[df_similaridade['item_B'].isin(fio_monolion)].query('valor_similaridade >= 0.9')"
   ]
  },
  {
   "cell_type": "code",
   "execution_count": null,
   "metadata": {},
   "outputs": [],
   "source": [
    "df_similaridade[df_similaridade['item_B'].isin(fio_monolion)].query('valor_similaridade >= 0.8')"
   ]
  },
  {
   "cell_type": "markdown",
   "metadata": {},
   "source": [
    "- Filtrando frauda"
   ]
  },
  {
   "cell_type": "code",
   "execution_count": null,
   "metadata": {},
   "outputs": [],
   "source": [
    "df_similaridade[df_similaridade['item_B'].isin(frauda)].query('valor_similaridade >= 0.9')"
   ]
  },
  {
   "cell_type": "code",
   "execution_count": null,
   "metadata": {},
   "outputs": [],
   "source": [
    "df_similaridade[df_similaridade['item_B'].isin(frauda)].query('valor_similaridade >= 0.8')"
   ]
  },
  {
   "cell_type": "markdown",
   "metadata": {},
   "source": [
    "- Filtro Sonda"
   ]
  },
  {
   "cell_type": "code",
   "execution_count": null,
   "metadata": {},
   "outputs": [],
   "source": [
    "df_similaridade[df_similaridade['item_B'].isin(sonda)].query('valor_similaridade >= 0.9')"
   ]
  },
  {
   "cell_type": "code",
   "execution_count": null,
   "metadata": {},
   "outputs": [],
   "source": [
    "df_similaridade[df_similaridade['item_B'].isin(sonda)].query('valor_similaridade >= 0.8')\n"
   ]
  }
 ],
 "metadata": {
  "interpreter": {
   "hash": "916dbcbb3f70747c44a77c7bcd40155683ae19c65e1c03b4aa3499c5328201f1"
  },
  "kernelspec": {
   "display_name": "Python 3 (ipykernel)",
   "language": "python",
   "name": "python3"
  },
  "language_info": {
   "codemirror_mode": {
    "name": "ipython",
    "version": 3
   },
   "file_extension": ".py",
   "mimetype": "text/x-python",
   "name": "python",
   "nbconvert_exporter": "python",
   "pygments_lexer": "ipython3",
   "version": "3.8.10"
  }
 },
 "nbformat": 4,
 "nbformat_minor": 4
}
