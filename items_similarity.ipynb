{
 "cells": [
  {
   "cell_type": "code",
   "execution_count": null,
   "metadata": {},
   "outputs": [],
   "source": [
    "import re\n",
    "import numpy as np\n",
    "import pandas as pd \n",
    "import missingno as msno\n",
    "from text_similarity import *\n",
    "\n",
    "from nltk.corpus import stopwords\n",
    "portugues_stops = stopwords.words('portuguese')\n",
    "portugues_stops = [i.upper() for i in portugues_stops] \n",
    "\n",
    "from sklearn.preprocessing import Binarizer"
   ]
  },
  {
   "cell_type": "markdown",
   "metadata": {},
   "source": [
    "# Importar os dados"
   ]
  },
  {
   "cell_type": "code",
   "execution_count": null,
   "metadata": {},
   "outputs": [],
   "source": [
    "df = pd.read_csv('data/dados-pacote-cirurgico-2022-02-08 10_30_25.csv', sep=';', encoding='iso8859-1')"
   ]
  },
  {
   "cell_type": "markdown",
   "metadata": {},
   "source": [
    "-  Remover espaços desnecessarios e '*'"
   ]
  },
  {
   "cell_type": "code",
   "execution_count": null,
   "metadata": {},
   "outputs": [],
   "source": [
    "size = df['Descrição do Item'].shape[0]\n",
    "\n",
    "df['Descrição do Item'] = [df['Descrição do Item'][i].replace('*', '').strip() for i in range(size)]\n",
    "df['Descrição do Item'] = [re.sub(' +',' ', df['Descrição do Item'][i]) for i in range(size)]"
   ]
  },
  {
   "cell_type": "markdown",
   "metadata": {},
   "source": [
    "- Pegar itens unicos"
   ]
  },
  {
   "cell_type": "code",
   "execution_count": null,
   "metadata": {},
   "outputs": [],
   "source": [
    "descricao_itens = df['Descrição do Item'].unique()"
   ]
  },
  {
   "cell_type": "markdown",
   "metadata": {},
   "source": [
    "- Remover stopwords"
   ]
  },
  {
   "cell_type": "code",
   "execution_count": null,
   "metadata": {},
   "outputs": [],
   "source": [
    "itens = pd.Series(descricao_itens).apply(lambda item: remove_stopwords(item, portugues_stops))"
   ]
  },
  {
   "cell_type": "markdown",
   "metadata": {},
   "source": [
    "# Matriz de similaridade"
   ]
  },
  {
   "cell_type": "markdown",
   "metadata": {},
   "source": [
    "- Gernado a Matriz de similaridade de Jaro"
   ]
  },
  {
   "cell_type": "code",
   "execution_count": null,
   "metadata": {},
   "outputs": [],
   "source": [
    "matriz_jaro_winkler = similarity_matrix(np.array(itens), metric='jaro_winkler')"
   ]
  },
  {
   "cell_type": "markdown",
   "metadata": {},
   "source": [
    "- Convertendo matriz de similaridade para Dataframe"
   ]
  },
  {
   "cell_type": "code",
   "execution_count": null,
   "metadata": {},
   "outputs": [],
   "source": [
    "matriz_similaridade = pd.DataFrame(matriz_jaro_winkler, index=descricao_itens, columns=descricao_itens) "
   ]
  },
  {
   "cell_type": "code",
   "execution_count": null,
   "metadata": {},
   "outputs": [],
   "source": [
    "matriz_similaridade"
   ]
  },
  {
   "cell_type": "markdown",
   "metadata": {},
   "source": [
    "- Converter Matriz para dataframe"
   ]
  },
  {
   "cell_type": "code",
   "execution_count": null,
   "metadata": {},
   "outputs": [],
   "source": [
    "df_similaridade = matriz_similaridade.unstack().reset_index().dropna()\n",
    "\n",
    "df_similaridade.rename(columns = {'level_0': 'item_A', 'level_1': 'item_B', 0:'valor_similaridade'}, inplace = True)\n",
    "\n",
    "df_similaridade"
   ]
  },
  {
   "cell_type": "markdown",
   "metadata": {},
   "source": [
    "## Binarizer"
   ]
  },
  {
   "cell_type": "code",
   "execution_count": null,
   "metadata": {},
   "outputs": [],
   "source": [
    "df_similaridade['similares'] = Binarizer(threshold=0.8).fit_transform(df_similaridade[['valor_similaridade']])"
   ]
  },
  {
   "cell_type": "code",
   "execution_count": null,
   "metadata": {},
   "outputs": [],
   "source": [
    "bins = [-1, 0.1, 0.2, 0.3, 0.4, 0.5, 0.6, 0.7, 0.8, 0.9, 1.0]\n",
    "\n",
    "labels = [\n",
    "    \"00 -| 10\", \"11 -| 20\", \"21 -| 30\", \"31 -| 40\", \"41 -| 50\", \n",
    "    \"51 -| 60\", \"61 -| 70\", \"71 -| 80\", \"81 -| 90\", \"91 -| 100\"\n",
    "]\n",
    "\n",
    "df_similaridade['classe'] = creat_class(df_similaridade['valor_similaridade'],bins, labels)"
   ]
  },
  {
   "cell_type": "code",
   "execution_count": null,
   "metadata": {},
   "outputs": [],
   "source": [
    "df_similaridade"
   ]
  },
  {
   "cell_type": "markdown",
   "metadata": {},
   "source": [
    "# Explorando os Resultados"
   ]
  },
  {
   "cell_type": "code",
   "execution_count": null,
   "metadata": {},
   "outputs": [],
   "source": [
    "df_similaridade = df_similaridade.query('valor_similaridade > 0 and valor_similaridade < 1.0')"
   ]
  },
  {
   "cell_type": "markdown",
   "metadata": {},
   "source": [
    "### Analisar por Grupos "
   ]
  },
  {
   "cell_type": "code",
   "execution_count": null,
   "metadata": {},
   "outputs": [],
   "source": [
    "list_cateter_cetrofix = [\n",
    "    'CATETER CERTOFIX DUO PAED S420 G22,22 20CM 4166949',\n",
    "    'CATETER CERTOFIX MONO PAED S110 G22 10CM 4160177'\n",
    "]\n",
    "\n",
    "list_cateter_venoso = [\n",
    "    'CATETER VENOSO PERIFERICO 22G - AUTOGUARD 381823 BD',\n",
    "    'CATETER VENOSO PERIFERICO 24G - AUTOGUARD 381812 BD'\n",
    "    'CATETER INTRAVASCULAR PERIFERICO JELCO 22GX25MM AZUL - SMITH'\n",
    "]\n",
    "\n",
    "list_fio_monolion = [\n",
    "    'FIO CIRURGICO MONONYLON P1662 T 4-0 - JOHNSON & JOHNSON',\n",
    "    'FIO CIRURGICO MONONYLON P1664 T 4-0 - JOHNSON & JOHNSON',\n",
    "    'FIO CIRURGICO MONONYLON P1663 T 3-0 - JOHNSON E JOHNSON',\n",
    "    'FIO CIRURGICO MONONYLON 1215 T 2-0 - JOHNSON & JOHNSON'\n",
    "]\n",
    "\n",
    "list_fio_prolene = [\n",
    "    'FIO CIRURGICO PROLENE 8707 T 6-0 - JOHNSON & JOHNSON',\n",
    "    'FIO CIRURGICO PROLENE 9556 T 5-0 - JOHNSON & JOHNSON',\n",
    "    'FIO CIRURGICO PROLENE M8703 T 7-0 - JOHNSON & JOHNSON',\n",
    "    'FIO CIRURGICO PROLENE 8704 T 7-0 - JOHNSON & JOHNSON',\n",
    "    'FIO CIRURGICO PROLENE 8730 T 8-0'\n",
    "]\n",
    "\n",
    "list_fio_seda = [\n",
    "    'FIO CIRURGICO SEDA G813 T 2-0 - JOHNSON & JOHNSON',\n",
    "    'FIO CIRURGICO SEDA SSP15 T-0'\n",
    "    'FIO CIRURGICO SEDA SSP13 T 3-0 - JOHNSON & JOHNSON'\n",
    "    'FIO CIRURGICO SEDA SSP14 T 2-0 - JOHNSON E JOHNSON'\n",
    "]\n",
    "\n",
    "list_fio_vicryl = [\n",
    "    'FIO CIRURGICO VICRYL VCP316 H - JOHNSON & JOHNSON',\n",
    "    'FIO CIRURGICO VICRYL VCP340 H 0 - JOHNSON & JOHNSON'\n",
    "]\n",
    "\n",
    "list_bisturi = [\n",
    "    'LAMINA DE BISTURI NR 11 ESTERIL - B. BRAUN',\n",
    "    'LAMINA DE BISTURI NR 15 ESTERIL - B. BRAUN',\n",
    "    'LAMINA DE BISTURI NR 21 ESTERIL - B. BRAUN'\n",
    "]\n",
    "\n",
    "list_perfursor =[\n",
    "    'PERFUSOR SET 120CM - B. BRAUN',\n",
    "    'PERFUSOR SET 20CM - B. BRAUN'\n",
    "]\n",
    "\n",
    "list_cauterio = [\n",
    "    'PLACA DE CAUTERIO INFANTIL SEM CABO REF: 1146 - 3M', \n",
    "    'PLACA ELETROCIRURGICA PARA PACIENTE AUTOADESIVA RN'\n",
    "]\n",
    "\n",
    "list_frauda = [\n",
    "    'FRALDA NEONATAL TAM. PP (0 A 3,5KG)',\n",
    "    'FRALDA INFANTIL P (ATE 6KG)',\n",
    "    'FRALDA INFANTIL EG (ACIMA DE 12KG)',\n",
    "    'FRALDA INFANTIL M (DE 6 A 10KG)',\n",
    "    'FRALDA PROTEK XXG 14 A 18 KG'\n",
    "]\n",
    "\n",
    "list_sonda = [\n",
    "    'SONDA FOLEY 2 VIAS 06 SILICONE - RUSCH',\n",
    "    'SONDA FOLEY 2 VIAS 08 BALAO 30 - RUSCH',\n",
    "    'SONDA FOLEY 2 VIAS 08 SILICONE - RUSCH'\n",
    "]\n",
    "\n",
    "list_tubo_endotraqueal = [\n",
    "    'TUBO ENDOTRAQUEAL S/BALAO 3.0 - MALLINCKRODT',\n",
    "    'TUBO ENDOTRAQUEAL S/BALAO 4.0 - MALLINCKRODT',\n",
    "    'TUBO ENDOTRAQUEAL S/BALAO 3.5 - MALLINCKRODT',\n",
    "    'TUBO ENDOTRAQUEAL C/BALAO 4.0 - MALLINCKRODT'\n",
    "]\n",
    "\n",
    "list_sistema_drenagem = [\n",
    "    'SISTEMA DRENAGEM MEDIASTINAL Nº 10 250ML',\n",
    "    'SISTEMA DRENAGEM MEDIASTINAL Nº 12 250ML',\n",
    "    'SISTEMA DRENAGEM MEDIASTINAL Nº 16 2000ML P.SIMON',\n",
    "    'SISTEMA DRENAGEM MEDIASTINAL Nº 18 2000ML P.SIMON'\n",
    "]"
   ]
  },
  {
   "cell_type": "markdown",
   "metadata": {},
   "source": [
    "## Filtro cateter cetrofix"
   ]
  },
  {
   "cell_type": "markdown",
   "metadata": {},
   "source": [
    "- Filtros de 90% e 80%"
   ]
  },
  {
   "cell_type": "code",
   "execution_count": null,
   "metadata": {},
   "outputs": [],
   "source": [
    "df_similaridade[df_similaridade['item_B'].isin(list_cateter_cetrofix)].query('valor_similaridade >= 0.9')"
   ]
  },
  {
   "cell_type": "code",
   "execution_count": null,
   "metadata": {},
   "outputs": [],
   "source": [
    "df_cateter_cetrofix = df_similaridade[df_similaridade['item_B'].isin(list_cateter_cetrofix)].query('valor_similaridade >= 0.8')"
   ]
  },
  {
   "cell_type": "code",
   "execution_count": null,
   "metadata": {},
   "outputs": [],
   "source": [
    "df_cateter_cetrofix"
   ]
  },
  {
   "cell_type": "markdown",
   "metadata": {},
   "source": [
    "- Agrupando itens das colunas itens_A e itens_B"
   ]
  },
  {
   "cell_type": "code",
   "execution_count": null,
   "metadata": {},
   "outputs": [],
   "source": [
    "list_cateter_cetrofix"
   ]
  },
  {
   "cell_type": "code",
   "execution_count": null,
   "metadata": {},
   "outputs": [],
   "source": [
    "group_cateter_cetrofix = group_similarity(df_cateter_cetrofix, 'item_A', 'item_B')"
   ]
  },
  {
   "cell_type": "code",
   "execution_count": null,
   "metadata": {},
   "outputs": [],
   "source": [
    "group_cateter_cetrofix"
   ]
  },
  {
   "cell_type": "markdown",
   "metadata": {},
   "source": [
    "- Refinando o modelo com regex"
   ]
  },
  {
   "cell_type": "code",
   "execution_count": null,
   "metadata": {},
   "outputs": [],
   "source": [
    "regex = re.compile(r'\\b(\\w+\\s+\\w+)\\b')\n",
    "cateter_cetrofix = regex_similarity('CATETER CERTOFIX', regex, group_cateter_cetrofix['itens'])"
   ]
  },
  {
   "cell_type": "code",
   "execution_count": null,
   "metadata": {},
   "outputs": [],
   "source": [
    "cateter_cetrofix"
   ]
  },
  {
   "cell_type": "code",
   "execution_count": null,
   "metadata": {},
   "outputs": [],
   "source": [
    "group_cateter_cetrofix = group_cateter_cetrofix[group_cateter_cetrofix['itens'].isin(cateter_cetrofix)]\n",
    "group_cateter_cetrofix"
   ]
  },
  {
   "cell_type": "code",
   "execution_count": null,
   "metadata": {},
   "outputs": [],
   "source": [
    "group_cateter_cetrofix.to_excel('data/refined_group/cateter_cetrofix.xlsx', index=False)"
   ]
  },
  {
   "cell_type": "markdown",
   "metadata": {},
   "source": [
    "## Filtro cateter venoso"
   ]
  },
  {
   "cell_type": "markdown",
   "metadata": {},
   "source": [
    "- Filtros de 90% e 80%"
   ]
  },
  {
   "cell_type": "code",
   "execution_count": null,
   "metadata": {},
   "outputs": [],
   "source": [
    "df_similaridade[df_similaridade['item_B'].isin(list_cateter_venoso)].query('valor_similaridade >= 0.9')"
   ]
  },
  {
   "cell_type": "code",
   "execution_count": null,
   "metadata": {},
   "outputs": [],
   "source": [
    "df_cateter_venoso = df_similaridade[df_similaridade['item_B'].isin(list_cateter_venoso)].query('valor_similaridade >= 0.8')"
   ]
  },
  {
   "cell_type": "code",
   "execution_count": null,
   "metadata": {},
   "outputs": [],
   "source": [
    "df_cateter_venoso"
   ]
  },
  {
   "cell_type": "markdown",
   "metadata": {},
   "source": [
    "- Agrupando itens das colunas itens_A e itens_B"
   ]
  },
  {
   "cell_type": "code",
   "execution_count": null,
   "metadata": {},
   "outputs": [],
   "source": [
    "group_cateter_venoso = group_similarity(df_cateter_venoso, 'item_A', 'item_B')\n",
    "group_cateter_venoso"
   ]
  },
  {
   "cell_type": "markdown",
   "metadata": {},
   "source": [
    "- Refinando o modelo com regex"
   ]
  },
  {
   "cell_type": "code",
   "execution_count": null,
   "metadata": {},
   "outputs": [],
   "source": [
    "regex = re.compile(r'\\b(\\w+\\s+\\w+)\\b')\n",
    "cateter_venoso = regex_similarity('CATETER VENOSO', regex, group_cateter_venoso['itens'])"
   ]
  },
  {
   "cell_type": "code",
   "execution_count": null,
   "metadata": {},
   "outputs": [],
   "source": [
    "cateter_venoso"
   ]
  },
  {
   "cell_type": "code",
   "execution_count": null,
   "metadata": {},
   "outputs": [],
   "source": [
    "group_cateter_venoso = group_cateter_venoso[group_cateter_venoso['itens'].isin(cateter_venoso)]\n",
    "group_cateter_venoso"
   ]
  },
  {
   "cell_type": "code",
   "execution_count": null,
   "metadata": {},
   "outputs": [],
   "source": [
    "group_cateter_venoso.to_excel('data/refined_group/cateter_venoso.xlsx', index=False)"
   ]
  },
  {
   "cell_type": "markdown",
   "metadata": {},
   "source": [
    "## Filtro fio Prolene"
   ]
  },
  {
   "cell_type": "code",
   "execution_count": null,
   "metadata": {},
   "outputs": [],
   "source": [
    "df_similaridade[df_similaridade['item_B'].isin(list_fio_prolene)].query('valor_similaridade >= 0.9')"
   ]
  },
  {
   "cell_type": "code",
   "execution_count": null,
   "metadata": {},
   "outputs": [],
   "source": [
    "df_fio_prolene = df_similaridade[df_similaridade['item_B'].isin(list_fio_prolene)].query('valor_similaridade >= 0.8')"
   ]
  },
  {
   "cell_type": "markdown",
   "metadata": {},
   "source": [
    "- Agrupando itens das colunas itens_A e itens_B"
   ]
  },
  {
   "cell_type": "code",
   "execution_count": null,
   "metadata": {},
   "outputs": [],
   "source": [
    "group_fio_prolene = group_similarity(df_fio_prolene, 'item_A', 'item_B')\n",
    "group_fio_prolene"
   ]
  },
  {
   "cell_type": "markdown",
   "metadata": {},
   "source": [
    "- Refinando o modelo com regex"
   ]
  },
  {
   "cell_type": "code",
   "execution_count": null,
   "metadata": {},
   "outputs": [],
   "source": [
    "regex = re.compile(r'\\b(\\w+\\s+\\w+\\s+\\w+)\\b')\n",
    "\n",
    "fio_prolene = regex_similarity('FIO CIRURGICO PROLENE', regex, group_fio_prolene['itens'])"
   ]
  },
  {
   "cell_type": "code",
   "execution_count": null,
   "metadata": {},
   "outputs": [],
   "source": [
    "fio_prolene"
   ]
  },
  {
   "cell_type": "code",
   "execution_count": null,
   "metadata": {},
   "outputs": [],
   "source": [
    "group_fio_prolene = group_fio_prolene[group_fio_prolene['itens'].isin(fio_prolene)]\n",
    "group_fio_prolene"
   ]
  },
  {
   "cell_type": "code",
   "execution_count": null,
   "metadata": {},
   "outputs": [],
   "source": [
    "group_fio_prolene.shape"
   ]
  },
  {
   "cell_type": "code",
   "execution_count": null,
   "metadata": {},
   "outputs": [],
   "source": [
    "group_fio_prolene.to_excel('data/refined_group/fio_cirurugico_prolene.xlsx', index=False)"
   ]
  },
  {
   "cell_type": "markdown",
   "metadata": {},
   "source": [
    "## Filtro Fio seda"
   ]
  },
  {
   "cell_type": "code",
   "execution_count": null,
   "metadata": {},
   "outputs": [],
   "source": [
    "df_similaridade[df_similaridade['item_B'].isin(list_fio_seda)].query('valor_similaridade >= 0.9')"
   ]
  },
  {
   "cell_type": "code",
   "execution_count": null,
   "metadata": {},
   "outputs": [],
   "source": [
    "df_fio_seda = df_similaridade[df_similaridade['item_B'].isin(list_fio_seda)].query('valor_similaridade >= 0.8')\n",
    "df_fio_seda"
   ]
  },
  {
   "cell_type": "markdown",
   "metadata": {},
   "source": [
    "- Agrupando itens das colunas itens_A e itens_B"
   ]
  },
  {
   "cell_type": "code",
   "execution_count": null,
   "metadata": {},
   "outputs": [],
   "source": [
    "group_fio_seda = group_similarity(df_fio_seda, 'item_A', 'item_B')\n",
    "group_fio_seda"
   ]
  },
  {
   "cell_type": "markdown",
   "metadata": {},
   "source": [
    "- Refinando o modelo com regex"
   ]
  },
  {
   "cell_type": "code",
   "execution_count": null,
   "metadata": {},
   "outputs": [],
   "source": [
    "regex = re.compile(r'\\b(\\w+\\s+\\w+\\s+\\w+)\\b')\n",
    "\n",
    "fio_seda = regex_similarity('FIO CIRURGICO SEDA', regex, group_fio_seda['itens'])"
   ]
  },
  {
   "cell_type": "code",
   "execution_count": null,
   "metadata": {},
   "outputs": [],
   "source": [
    "group_fio_prolene = group_fio_prolene[group_fio_prolene['itens'].isin(fio_prolene)]\n",
    "group_fio_prolene"
   ]
  },
  {
   "cell_type": "code",
   "execution_count": null,
   "metadata": {},
   "outputs": [],
   "source": [
    "group_fio_seda = group_fio_seda[group_fio_seda['itens'].isin(fio_seda)]\n",
    "group_fio_seda"
   ]
  },
  {
   "cell_type": "code",
   "execution_count": null,
   "metadata": {},
   "outputs": [],
   "source": [
    "group_fio_seda.to_excel('data/refined_group/fio_cirurugico_seda.xlsx', index=False)"
   ]
  },
  {
   "cell_type": "markdown",
   "metadata": {},
   "source": [
    "## Filtro Fio Vicryl"
   ]
  },
  {
   "cell_type": "code",
   "execution_count": null,
   "metadata": {},
   "outputs": [],
   "source": [
    "df_similaridade[df_similaridade['item_B'].isin(list_fio_vicryl)].query('valor_similaridade >= 0.9')"
   ]
  },
  {
   "cell_type": "code",
   "execution_count": null,
   "metadata": {},
   "outputs": [],
   "source": [
    "df_fio_vicryl = df_similaridade[df_similaridade['item_B'].isin(list_fio_vicryl)].query('valor_similaridade >= 0.8')"
   ]
  },
  {
   "cell_type": "code",
   "execution_count": null,
   "metadata": {},
   "outputs": [],
   "source": [
    "df_fio_vicryl"
   ]
  },
  {
   "cell_type": "markdown",
   "metadata": {},
   "source": [
    "- Agrupando itens das colunas itens_A e itens_B"
   ]
  },
  {
   "cell_type": "code",
   "execution_count": null,
   "metadata": {},
   "outputs": [],
   "source": [
    "group_fio_vicryl = group_similarity(df_fio_vicryl, 'item_A', 'item_B')\n",
    "group_fio_vicryl"
   ]
  },
  {
   "cell_type": "markdown",
   "metadata": {},
   "source": [
    "- Refinando o modelo com regex"
   ]
  },
  {
   "cell_type": "code",
   "execution_count": null,
   "metadata": {},
   "outputs": [],
   "source": [
    "regex = re.compile(r'\\b(\\w+\\s+\\w+\\s+\\w+)\\b')\n",
    "\n",
    "fio_vicry = regex_similarity('FIO CIRURGICO VICRYL', regex, group_fio_vicryl['itens'])"
   ]
  },
  {
   "cell_type": "code",
   "execution_count": null,
   "metadata": {},
   "outputs": [],
   "source": [
    "group_fio_vicryl = group_fio_vicryl[group_fio_vicryl['itens'].isin(fio_vicry)]"
   ]
  },
  {
   "cell_type": "code",
   "execution_count": null,
   "metadata": {},
   "outputs": [],
   "source": [
    "group_fio_vicryl.to_excel('data/refined_group/fio_cirurugico_vicryl.xlsx', index=False)"
   ]
  },
  {
   "cell_type": "markdown",
   "metadata": {},
   "source": [
    "## Filtro bisturi"
   ]
  },
  {
   "cell_type": "code",
   "execution_count": null,
   "metadata": {},
   "outputs": [],
   "source": [
    "df_similaridade[df_similaridade['item_B'].isin(list_bisturi)].query('valor_similaridade >= 0.9')"
   ]
  },
  {
   "cell_type": "code",
   "execution_count": null,
   "metadata": {},
   "outputs": [],
   "source": [
    "df_bisturi = df_similaridade[df_similaridade['item_B'].isin(list_bisturi)].query('valor_similaridade >= 0.8')"
   ]
  },
  {
   "cell_type": "markdown",
   "metadata": {},
   "source": [
    "- Agrupando itens das colunas itens_A e itens_B"
   ]
  },
  {
   "cell_type": "code",
   "execution_count": null,
   "metadata": {},
   "outputs": [],
   "source": [
    "group_bisturi = group_similarity(df_bisturi, 'item_A', 'item_B')\n",
    "group_bisturi"
   ]
  },
  {
   "cell_type": "markdown",
   "metadata": {},
   "source": [
    "## Filtro Perfursor"
   ]
  },
  {
   "cell_type": "code",
   "execution_count": null,
   "metadata": {},
   "outputs": [],
   "source": [
    "df_similaridade[df_similaridade['item_B'].isin(list_perfursor)].query('valor_similaridade >= 0.9')"
   ]
  },
  {
   "cell_type": "code",
   "execution_count": null,
   "metadata": {},
   "outputs": [],
   "source": [
    "df_similaridade[df_similaridade['item_B'].isin(list_perfursor)].query('valor_similaridade >= 0.8')"
   ]
  },
  {
   "cell_type": "markdown",
   "metadata": {},
   "source": [
    "- Agrupando itens das colunas itens_A e itens_B"
   ]
  },
  {
   "cell_type": "code",
   "execution_count": null,
   "metadata": {},
   "outputs": [],
   "source": [
    "group_bisturi = group_similarity(df_perfursor, 'item_A', 'item_B')\n",
    "group_bisturi"
   ]
  },
  {
   "cell_type": "markdown",
   "metadata": {},
   "source": [
    "## Filtro tubo endotraqueal"
   ]
  },
  {
   "cell_type": "code",
   "execution_count": null,
   "metadata": {},
   "outputs": [],
   "source": [
    "tb_endotraqueal_09 = df_similaridade[df_similaridade['item_B'].isin(list_tubo_endotraqueal)].query('valor_similaridade >= 0.9')"
   ]
  },
  {
   "cell_type": "code",
   "execution_count": null,
   "metadata": {},
   "outputs": [],
   "source": [
    "group_endotraqueal_09 = group_similarity(tb_endotraqueal_09, 'item_A', 'item_B')"
   ]
  },
  {
   "cell_type": "code",
   "execution_count": null,
   "metadata": {},
   "outputs": [],
   "source": [
    "group_endotraqueal_09.shape"
   ]
  },
  {
   "cell_type": "code",
   "execution_count": null,
   "metadata": {},
   "outputs": [],
   "source": [
    "df_endotraqueal = df_similaridade[df_similaridade['item_B'].isin(list_tubo_endotraqueal)].query('valor_similaridade >= 0.8')"
   ]
  },
  {
   "cell_type": "markdown",
   "metadata": {},
   "source": [
    "- Agrupando itens das colunas itens_A e itens_B"
   ]
  },
  {
   "cell_type": "code",
   "execution_count": null,
   "metadata": {},
   "outputs": [],
   "source": [
    "group_endotraqueal = group_similarity(df_endotraqueal, 'item_A', 'item_B')\n",
    "group_endotraqueal"
   ]
  },
  {
   "cell_type": "code",
   "execution_count": null,
   "metadata": {},
   "outputs": [],
   "source": [
    "group_endotraqueal.shape"
   ]
  },
  {
   "cell_type": "markdown",
   "metadata": {},
   "source": [
    "- Refinando o modelo com regex"
   ]
  },
  {
   "cell_type": "code",
   "execution_count": 78,
   "metadata": {},
   "outputs": [],
   "source": [
    "regex = re.compile(r'\\b(\\w+\\s+\\w+)\\b')\n",
    "\n",
    "tubo_endotraqueal = regex_similarity('TUBO ENDOTRAQUEAL', regex, group_endotraqueal['itens'])"
   ]
  },
  {
   "cell_type": "code",
   "execution_count": 80,
   "metadata": {},
   "outputs": [],
   "source": [
    "group_endotraqueal = group_endotraqueal[group_endotraqueal['itens'].isin(tubo_endotraqueal)]"
   ]
  },
  {
   "cell_type": "code",
   "execution_count": 81,
   "metadata": {},
   "outputs": [
    {
     "data": {
      "text/html": [
       "<div>\n",
       "<style scoped>\n",
       "    .dataframe tbody tr th:only-of-type {\n",
       "        vertical-align: middle;\n",
       "    }\n",
       "\n",
       "    .dataframe tbody tr th {\n",
       "        vertical-align: top;\n",
       "    }\n",
       "\n",
       "    .dataframe thead th {\n",
       "        text-align: right;\n",
       "    }\n",
       "</style>\n",
       "<table border=\"1\" class=\"dataframe\">\n",
       "  <thead>\n",
       "    <tr style=\"text-align: right;\">\n",
       "      <th></th>\n",
       "      <th>itens</th>\n",
       "      <th>predito</th>\n",
       "    </tr>\n",
       "  </thead>\n",
       "  <tbody>\n",
       "    <tr>\n",
       "      <th>1490649</th>\n",
       "      <td>TUBO ENDOTRAQUEAL C/BALAO 4.0 - MALLINCKRODT</td>\n",
       "      <td>1</td>\n",
       "    </tr>\n",
       "    <tr>\n",
       "      <th>1720905</th>\n",
       "      <td>TUBO ENDOTRAQUEAL TAPERGUARD C/BALAO 7.5 - MAL...</td>\n",
       "      <td>1</td>\n",
       "    </tr>\n",
       "    <tr>\n",
       "      <th>1942305</th>\n",
       "      <td>TUBO ENDOTRAQUEAL TAPERGUARD C/BALAO 5.5 - MAL...</td>\n",
       "      <td>1</td>\n",
       "    </tr>\n",
       "    <tr>\n",
       "      <th>2112783</th>\n",
       "      <td>TUBO ENDOTRAQUEAL TAPERGUARD C/BALAO 6.0 - MAL...</td>\n",
       "      <td>1</td>\n",
       "    </tr>\n",
       "    <tr>\n",
       "      <th>2506875</th>\n",
       "      <td>TUBO ENDOTRAQUEAL C/BALAO 3.5 - MALLINCKRODT</td>\n",
       "      <td>1</td>\n",
       "    </tr>\n",
       "    <tr>\n",
       "      <th>2579937</th>\n",
       "      <td>TUBO ENDOTRAQUEAL C/BALAO 4.5 - MALLINCKRODT</td>\n",
       "      <td>1</td>\n",
       "    </tr>\n",
       "    <tr>\n",
       "      <th>2763699</th>\n",
       "      <td>TUBO ENDOTRAQUEAL TAPERGUARD C/BALAO 5.0 - MAL...</td>\n",
       "      <td>1</td>\n",
       "    </tr>\n",
       "    <tr>\n",
       "      <th>2785839</th>\n",
       "      <td>TUBO ENDOTRAQUEAL TAPERGUARD C/BALAO 9.0 - MAL...</td>\n",
       "      <td>1</td>\n",
       "    </tr>\n",
       "    <tr>\n",
       "      <th>2934177</th>\n",
       "      <td>TUBO ENDOTRAQUEAL ARAMADO C/BALAO - 7.0 - MALL...</td>\n",
       "      <td>1</td>\n",
       "    </tr>\n",
       "    <tr>\n",
       "      <th>3086943</th>\n",
       "      <td>TUBO ENDOTRAQUEAL S/BALAO 3.0 - MALLINCKRODT</td>\n",
       "      <td>1</td>\n",
       "    </tr>\n",
       "    <tr>\n",
       "      <th>3352623</th>\n",
       "      <td>TUBO ENDOTRAQUEAL ARAMADO C/BALAO - 8.5 - MALL...</td>\n",
       "      <td>1</td>\n",
       "    </tr>\n",
       "    <tr>\n",
       "      <th>3392475</th>\n",
       "      <td>TUBO ENDOTRAQUEAL C/BALAO 3.0 - MALLINCKRODT</td>\n",
       "      <td>1</td>\n",
       "    </tr>\n",
       "    <tr>\n",
       "      <th>3536385</th>\n",
       "      <td>TUBO ENDOTRAQUEAL ARAMADO C/BALAO - 6.5 - MALL...</td>\n",
       "      <td>1</td>\n",
       "    </tr>\n",
       "    <tr>\n",
       "      <th>3897267</th>\n",
       "      <td>TUBO ENDOTRAQUEAL S/BALAO 2.5 - MALLINCKRODT</td>\n",
       "      <td>1</td>\n",
       "    </tr>\n",
       "    <tr>\n",
       "      <th>4643385</th>\n",
       "      <td>TUBO ENDOTRAQUEAL ARAMADO S/BALAO - 3.5</td>\n",
       "      <td>1</td>\n",
       "    </tr>\n",
       "    <tr>\n",
       "      <th>4645599</th>\n",
       "      <td>TUBO ENDOTRAQUEAL ARAMADO S/ BALAO - 3.0</td>\n",
       "      <td>1</td>\n",
       "    </tr>\n",
       "    <tr>\n",
       "      <th>4836003</th>\n",
       "      <td>TUBO ENDOTRAQUEAL TAPERGUARD C/BALAO 6.5 - MAL...</td>\n",
       "      <td>1</td>\n",
       "    </tr>\n",
       "    <tr>\n",
       "      <th>1490649</th>\n",
       "      <td>TUBO ENDOTRAQUEAL S/BALAO 3.5 - MALLINCKRODT</td>\n",
       "      <td>1</td>\n",
       "    </tr>\n",
       "  </tbody>\n",
       "</table>\n",
       "</div>"
      ],
      "text/plain": [
       "                                                     itens  predito\n",
       "1490649       TUBO ENDOTRAQUEAL C/BALAO 4.0 - MALLINCKRODT        1\n",
       "1720905  TUBO ENDOTRAQUEAL TAPERGUARD C/BALAO 7.5 - MAL...        1\n",
       "1942305  TUBO ENDOTRAQUEAL TAPERGUARD C/BALAO 5.5 - MAL...        1\n",
       "2112783  TUBO ENDOTRAQUEAL TAPERGUARD C/BALAO 6.0 - MAL...        1\n",
       "2506875       TUBO ENDOTRAQUEAL C/BALAO 3.5 - MALLINCKRODT        1\n",
       "2579937       TUBO ENDOTRAQUEAL C/BALAO 4.5 - MALLINCKRODT        1\n",
       "2763699  TUBO ENDOTRAQUEAL TAPERGUARD C/BALAO 5.0 - MAL...        1\n",
       "2785839  TUBO ENDOTRAQUEAL TAPERGUARD C/BALAO 9.0 - MAL...        1\n",
       "2934177  TUBO ENDOTRAQUEAL ARAMADO C/BALAO - 7.0 - MALL...        1\n",
       "3086943       TUBO ENDOTRAQUEAL S/BALAO 3.0 - MALLINCKRODT        1\n",
       "3352623  TUBO ENDOTRAQUEAL ARAMADO C/BALAO - 8.5 - MALL...        1\n",
       "3392475       TUBO ENDOTRAQUEAL C/BALAO 3.0 - MALLINCKRODT        1\n",
       "3536385  TUBO ENDOTRAQUEAL ARAMADO C/BALAO - 6.5 - MALL...        1\n",
       "3897267       TUBO ENDOTRAQUEAL S/BALAO 2.5 - MALLINCKRODT        1\n",
       "4643385            TUBO ENDOTRAQUEAL ARAMADO S/BALAO - 3.5        1\n",
       "4645599           TUBO ENDOTRAQUEAL ARAMADO S/ BALAO - 3.0        1\n",
       "4836003  TUBO ENDOTRAQUEAL TAPERGUARD C/BALAO 6.5 - MAL...        1\n",
       "1490649       TUBO ENDOTRAQUEAL S/BALAO 3.5 - MALLINCKRODT        1"
      ]
     },
     "execution_count": 81,
     "metadata": {},
     "output_type": "execute_result"
    }
   ],
   "source": [
    "group_endotraqueal"
   ]
  },
  {
   "cell_type": "code",
   "execution_count": 86,
   "metadata": {},
   "outputs": [],
   "source": [
    "group_endotraqueal.to_excel('data/refined_group/tubo_endotraqueal.xlsx', index=False)"
   ]
  },
  {
   "cell_type": "markdown",
   "metadata": {},
   "source": [
    "## Filtrando fio monolion"
   ]
  },
  {
   "cell_type": "code",
   "execution_count": 87,
   "metadata": {},
   "outputs": [],
   "source": [
    "df_fio_monolion_09 = df_similaridade[df_similaridade['item_B'].isin(list_fio_monolion)].query('valor_similaridade >= 0.9')"
   ]
  },
  {
   "cell_type": "code",
   "execution_count": 88,
   "metadata": {},
   "outputs": [
    {
     "data": {
      "text/plain": [
       "(9, 2)"
      ]
     },
     "execution_count": 88,
     "metadata": {},
     "output_type": "execute_result"
    }
   ],
   "source": [
    "group_fio_mono_09 = group_similarity(df_fio_monolion_09, 'item_A', 'item_B')\n",
    "group_fio_mono_09.shape"
   ]
  },
  {
   "cell_type": "code",
   "execution_count": 89,
   "metadata": {},
   "outputs": [
    {
     "data": {
      "text/html": [
       "<div>\n",
       "<style scoped>\n",
       "    .dataframe tbody tr th:only-of-type {\n",
       "        vertical-align: middle;\n",
       "    }\n",
       "\n",
       "    .dataframe tbody tr th {\n",
       "        vertical-align: top;\n",
       "    }\n",
       "\n",
       "    .dataframe thead th {\n",
       "        text-align: right;\n",
       "    }\n",
       "</style>\n",
       "<table border=\"1\" class=\"dataframe\">\n",
       "  <thead>\n",
       "    <tr style=\"text-align: right;\">\n",
       "      <th></th>\n",
       "      <th>itens</th>\n",
       "      <th>predito</th>\n",
       "    </tr>\n",
       "  </thead>\n",
       "  <tbody>\n",
       "    <tr>\n",
       "      <th>524941</th>\n",
       "      <td>FIO CIRURGICO MONONYLON P1662 T 4-0 - JOHNSON ...</td>\n",
       "      <td>1</td>\n",
       "    </tr>\n",
       "    <tr>\n",
       "      <th>706489</th>\n",
       "      <td>FIO CIRURGICO MONONYLON P1664 T 4-0 - JOHNSON ...</td>\n",
       "      <td>1</td>\n",
       "    </tr>\n",
       "    <tr>\n",
       "      <th>803905</th>\n",
       "      <td>FIO CIRURGICO MONONYLON 1163 T 3-0</td>\n",
       "      <td>1</td>\n",
       "    </tr>\n",
       "    <tr>\n",
       "      <th>1492459</th>\n",
       "      <td>FIO CIRURGICO MONONYLON 1215 T 2-0 - JOHNSON &amp;...</td>\n",
       "      <td>1</td>\n",
       "    </tr>\n",
       "    <tr>\n",
       "      <th>3487273</th>\n",
       "      <td>FIO CIRURGICO MONONYLON P1602 T 5-0 - JOHNSON ...</td>\n",
       "      <td>1</td>\n",
       "    </tr>\n",
       "    <tr>\n",
       "      <th>3489487</th>\n",
       "      <td>FIO CIRURGICO MONONYLON P1611 T 4-0 - JOHNSON ...</td>\n",
       "      <td>1</td>\n",
       "    </tr>\n",
       "    <tr>\n",
       "      <th>3498343</th>\n",
       "      <td>FIO CIRURGICO MONONYLON P1661 T 5-0 - JOHNSON ...</td>\n",
       "      <td>1</td>\n",
       "    </tr>\n",
       "    <tr>\n",
       "      <th>3912361</th>\n",
       "      <td>FIO CIRURGICO MONONYLON P1666 T 5-0 - JOHNSON ...</td>\n",
       "      <td>1</td>\n",
       "    </tr>\n",
       "    <tr>\n",
       "      <th>524941</th>\n",
       "      <td>FIO CIRURGICO MONONYLON P1663 T 3-0 - JOHNSON ...</td>\n",
       "      <td>1</td>\n",
       "    </tr>\n",
       "  </tbody>\n",
       "</table>\n",
       "</div>"
      ],
      "text/plain": [
       "                                                     itens  predito\n",
       "524941   FIO CIRURGICO MONONYLON P1662 T 4-0 - JOHNSON ...        1\n",
       "706489   FIO CIRURGICO MONONYLON P1664 T 4-0 - JOHNSON ...        1\n",
       "803905                  FIO CIRURGICO MONONYLON 1163 T 3-0        1\n",
       "1492459  FIO CIRURGICO MONONYLON 1215 T 2-0 - JOHNSON &...        1\n",
       "3487273  FIO CIRURGICO MONONYLON P1602 T 5-0 - JOHNSON ...        1\n",
       "3489487  FIO CIRURGICO MONONYLON P1611 T 4-0 - JOHNSON ...        1\n",
       "3498343  FIO CIRURGICO MONONYLON P1661 T 5-0 - JOHNSON ...        1\n",
       "3912361  FIO CIRURGICO MONONYLON P1666 T 5-0 - JOHNSON ...        1\n",
       "524941   FIO CIRURGICO MONONYLON P1663 T 3-0 - JOHNSON ...        1"
      ]
     },
     "execution_count": 89,
     "metadata": {},
     "output_type": "execute_result"
    }
   ],
   "source": [
    "group_fio_mono_09"
   ]
  },
  {
   "cell_type": "code",
   "execution_count": 90,
   "metadata": {},
   "outputs": [],
   "source": [
    "df_fio_monolion = df_similaridade[df_similaridade['item_B'].isin(list_fio_monolion)].query('valor_similaridade >= 0.8')"
   ]
  },
  {
   "cell_type": "code",
   "execution_count": 91,
   "metadata": {},
   "outputs": [
    {
     "data": {
      "text/html": [
       "<div>\n",
       "<style scoped>\n",
       "    .dataframe tbody tr th:only-of-type {\n",
       "        vertical-align: middle;\n",
       "    }\n",
       "\n",
       "    .dataframe tbody tr th {\n",
       "        vertical-align: top;\n",
       "    }\n",
       "\n",
       "    .dataframe thead th {\n",
       "        text-align: right;\n",
       "    }\n",
       "</style>\n",
       "<table border=\"1\" class=\"dataframe\">\n",
       "  <thead>\n",
       "    <tr style=\"text-align: right;\">\n",
       "      <th></th>\n",
       "      <th>item_A</th>\n",
       "      <th>item_B</th>\n",
       "      <th>valor_similaridade</th>\n",
       "      <th>similares</th>\n",
       "      <th>classe</th>\n",
       "    </tr>\n",
       "  </thead>\n",
       "  <tbody>\n",
       "    <tr>\n",
       "      <th>524941</th>\n",
       "      <td>FIO CIRURGICO MONONYLON P1662 T 4-0 - JOHNSON ...</td>\n",
       "      <td>FIO CIRURGICO MONONYLON P1663 T 3-0 - JOHNSON ...</td>\n",
       "      <td>0.984906</td>\n",
       "      <td>1.0</td>\n",
       "      <td>91 -| 100</td>\n",
       "    </tr>\n",
       "    <tr>\n",
       "      <th>706489</th>\n",
       "      <td>FIO CIRURGICO MONONYLON P1664 T 4-0 - JOHNSON ...</td>\n",
       "      <td>FIO CIRURGICO MONONYLON P1663 T 3-0 - JOHNSON ...</td>\n",
       "      <td>0.984906</td>\n",
       "      <td>1.0</td>\n",
       "      <td>91 -| 100</td>\n",
       "    </tr>\n",
       "    <tr>\n",
       "      <th>706503</th>\n",
       "      <td>FIO CIRURGICO MONONYLON P1664 T 4-0 - JOHNSON ...</td>\n",
       "      <td>FIO CIRURGICO MONONYLON P1662 T 4-0 - JOHNSON ...</td>\n",
       "      <td>0.984761</td>\n",
       "      <td>1.0</td>\n",
       "      <td>91 -| 100</td>\n",
       "    </tr>\n",
       "    <tr>\n",
       "      <th>761839</th>\n",
       "      <td>FIO CIRURGICO CATGUT SIMPLES 853 T 2-0 - JOHNS...</td>\n",
       "      <td>FIO CIRURGICO MONONYLON P1663 T 3-0 - JOHNSON ...</td>\n",
       "      <td>0.846586</td>\n",
       "      <td>1.0</td>\n",
       "      <td>81 -| 90</td>\n",
       "    </tr>\n",
       "    <tr>\n",
       "      <th>761853</th>\n",
       "      <td>FIO CIRURGICO CATGUT SIMPLES 853 T 2-0 - JOHNS...</td>\n",
       "      <td>FIO CIRURGICO MONONYLON P1662 T 4-0 - JOHNSON ...</td>\n",
       "      <td>0.846586</td>\n",
       "      <td>1.0</td>\n",
       "      <td>81 -| 90</td>\n",
       "    </tr>\n",
       "    <tr>\n",
       "      <th>...</th>\n",
       "      <td>...</td>\n",
       "      <td>...</td>\n",
       "      <td>...</td>\n",
       "      <td>...</td>\n",
       "      <td>...</td>\n",
       "    </tr>\n",
       "    <tr>\n",
       "      <th>4569919</th>\n",
       "      <td>FIO CIRURGICO PDS II Z339 2-0- JOHNSON &amp; JOHNSON</td>\n",
       "      <td>FIO CIRURGICO MONONYLON P1663 T 3-0 - JOHNSON ...</td>\n",
       "      <td>0.855197</td>\n",
       "      <td>1.0</td>\n",
       "      <td>81 -| 90</td>\n",
       "    </tr>\n",
       "    <tr>\n",
       "      <th>4569933</th>\n",
       "      <td>FIO CIRURGICO PDS II Z339 2-0- JOHNSON &amp; JOHNSON</td>\n",
       "      <td>FIO CIRURGICO MONONYLON P1662 T 4-0 - JOHNSON ...</td>\n",
       "      <td>0.845456</td>\n",
       "      <td>1.0</td>\n",
       "      <td>81 -| 90</td>\n",
       "    </tr>\n",
       "    <tr>\n",
       "      <th>4570015</th>\n",
       "      <td>FIO CIRURGICO PDS II Z339 2-0- JOHNSON &amp; JOHNSON</td>\n",
       "      <td>FIO CIRURGICO MONONYLON P1664 T 4-0 - JOHNSON ...</td>\n",
       "      <td>0.841033</td>\n",
       "      <td>1.0</td>\n",
       "      <td>81 -| 90</td>\n",
       "    </tr>\n",
       "    <tr>\n",
       "      <th>4570370</th>\n",
       "      <td>FIO CIRURGICO PDS II Z339 2-0- JOHNSON &amp; JOHNSON</td>\n",
       "      <td>FIO CIRURGICO MONONYLON 1215 T 2-0 - JOHNSON &amp;...</td>\n",
       "      <td>0.843718</td>\n",
       "      <td>1.0</td>\n",
       "      <td>81 -| 90</td>\n",
       "    </tr>\n",
       "    <tr>\n",
       "      <th>4585417</th>\n",
       "      <td>FIO CIRURGICO VICRYL XYJ316H 3-0</td>\n",
       "      <td>FIO CIRURGICO MONONYLON P1663 T 3-0 - JOHNSON ...</td>\n",
       "      <td>0.829844</td>\n",
       "      <td>1.0</td>\n",
       "      <td>81 -| 90</td>\n",
       "    </tr>\n",
       "  </tbody>\n",
       "</table>\n",
       "<p>207 rows × 5 columns</p>\n",
       "</div>"
      ],
      "text/plain": [
       "                                                    item_A  \\\n",
       "524941   FIO CIRURGICO MONONYLON P1662 T 4-0 - JOHNSON ...   \n",
       "706489   FIO CIRURGICO MONONYLON P1664 T 4-0 - JOHNSON ...   \n",
       "706503   FIO CIRURGICO MONONYLON P1664 T 4-0 - JOHNSON ...   \n",
       "761839   FIO CIRURGICO CATGUT SIMPLES 853 T 2-0 - JOHNS...   \n",
       "761853   FIO CIRURGICO CATGUT SIMPLES 853 T 2-0 - JOHNS...   \n",
       "...                                                    ...   \n",
       "4569919   FIO CIRURGICO PDS II Z339 2-0- JOHNSON & JOHNSON   \n",
       "4569933   FIO CIRURGICO PDS II Z339 2-0- JOHNSON & JOHNSON   \n",
       "4570015   FIO CIRURGICO PDS II Z339 2-0- JOHNSON & JOHNSON   \n",
       "4570370   FIO CIRURGICO PDS II Z339 2-0- JOHNSON & JOHNSON   \n",
       "4585417                   FIO CIRURGICO VICRYL XYJ316H 3-0   \n",
       "\n",
       "                                                    item_B  \\\n",
       "524941   FIO CIRURGICO MONONYLON P1663 T 3-0 - JOHNSON ...   \n",
       "706489   FIO CIRURGICO MONONYLON P1663 T 3-0 - JOHNSON ...   \n",
       "706503   FIO CIRURGICO MONONYLON P1662 T 4-0 - JOHNSON ...   \n",
       "761839   FIO CIRURGICO MONONYLON P1663 T 3-0 - JOHNSON ...   \n",
       "761853   FIO CIRURGICO MONONYLON P1662 T 4-0 - JOHNSON ...   \n",
       "...                                                    ...   \n",
       "4569919  FIO CIRURGICO MONONYLON P1663 T 3-0 - JOHNSON ...   \n",
       "4569933  FIO CIRURGICO MONONYLON P1662 T 4-0 - JOHNSON ...   \n",
       "4570015  FIO CIRURGICO MONONYLON P1664 T 4-0 - JOHNSON ...   \n",
       "4570370  FIO CIRURGICO MONONYLON 1215 T 2-0 - JOHNSON &...   \n",
       "4585417  FIO CIRURGICO MONONYLON P1663 T 3-0 - JOHNSON ...   \n",
       "\n",
       "         valor_similaridade  similares     classe  \n",
       "524941             0.984906        1.0  91 -| 100  \n",
       "706489             0.984906        1.0  91 -| 100  \n",
       "706503             0.984761        1.0  91 -| 100  \n",
       "761839             0.846586        1.0   81 -| 90  \n",
       "761853             0.846586        1.0   81 -| 90  \n",
       "...                     ...        ...        ...  \n",
       "4569919            0.855197        1.0   81 -| 90  \n",
       "4569933            0.845456        1.0   81 -| 90  \n",
       "4570015            0.841033        1.0   81 -| 90  \n",
       "4570370            0.843718        1.0   81 -| 90  \n",
       "4585417            0.829844        1.0   81 -| 90  \n",
       "\n",
       "[207 rows x 5 columns]"
      ]
     },
     "execution_count": 91,
     "metadata": {},
     "output_type": "execute_result"
    }
   ],
   "source": [
    "df_fio_monolion"
   ]
  },
  {
   "cell_type": "markdown",
   "metadata": {},
   "source": [
    "- Agrupando itens das colunas itens_A e itens_B"
   ]
  },
  {
   "cell_type": "code",
   "execution_count": 92,
   "metadata": {},
   "outputs": [
    {
     "data": {
      "text/html": [
       "<div>\n",
       "<style scoped>\n",
       "    .dataframe tbody tr th:only-of-type {\n",
       "        vertical-align: middle;\n",
       "    }\n",
       "\n",
       "    .dataframe tbody tr th {\n",
       "        vertical-align: top;\n",
       "    }\n",
       "\n",
       "    .dataframe thead th {\n",
       "        text-align: right;\n",
       "    }\n",
       "</style>\n",
       "<table border=\"1\" class=\"dataframe\">\n",
       "  <thead>\n",
       "    <tr style=\"text-align: right;\">\n",
       "      <th></th>\n",
       "      <th>itens</th>\n",
       "      <th>predito</th>\n",
       "    </tr>\n",
       "  </thead>\n",
       "  <tbody>\n",
       "    <tr>\n",
       "      <th>524941</th>\n",
       "      <td>FIO CIRURGICO MONONYLON P1662 T 4-0 - JOHNSON ...</td>\n",
       "      <td>1</td>\n",
       "    </tr>\n",
       "    <tr>\n",
       "      <th>706489</th>\n",
       "      <td>FIO CIRURGICO MONONYLON P1664 T 4-0 - JOHNSON ...</td>\n",
       "      <td>1</td>\n",
       "    </tr>\n",
       "    <tr>\n",
       "      <th>761839</th>\n",
       "      <td>FIO CIRURGICO CATGUT SIMPLES 853 T 2-0 - JOHNS...</td>\n",
       "      <td>1</td>\n",
       "    </tr>\n",
       "    <tr>\n",
       "      <th>803905</th>\n",
       "      <td>FIO CIRURGICO MONONYLON 1163 T 3-0</td>\n",
       "      <td>1</td>\n",
       "    </tr>\n",
       "    <tr>\n",
       "      <th>845971</th>\n",
       "      <td>FIO CIRURGICO MONOCRYL Y495 H5-0 - JOHNSON E J...</td>\n",
       "      <td>1</td>\n",
       "    </tr>\n",
       "    <tr>\n",
       "      <th>848185</th>\n",
       "      <td>FIO CIRURGICO VICRYL VCP304 H 4-0 - JOHNSON &amp; ...</td>\n",
       "      <td>1</td>\n",
       "    </tr>\n",
       "    <tr>\n",
       "      <th>914605</th>\n",
       "      <td>FIO CIRURGICO SEDA G813 T 2-0 - JOHNSON &amp; JOHNSON</td>\n",
       "      <td>1</td>\n",
       "    </tr>\n",
       "    <tr>\n",
       "      <th>919033</th>\n",
       "      <td>FIO CIRURGICO VICRYL VCP333 H 2-0 - JOHNSON &amp; ...</td>\n",
       "      <td>1</td>\n",
       "    </tr>\n",
       "    <tr>\n",
       "      <th>950029</th>\n",
       "      <td>FIO CIRURGICO PROLENE P8682 T 4-0 - JOHNSON &amp; ...</td>\n",
       "      <td>1</td>\n",
       "    </tr>\n",
       "    <tr>\n",
       "      <th>961099</th>\n",
       "      <td>FIO CIRURGICO VICRYL VCP351 H 2-0 - JOHNSON &amp; ...</td>\n",
       "      <td>1</td>\n",
       "    </tr>\n",
       "    <tr>\n",
       "      <th>1060729</th>\n",
       "      <td>FIO CIRURGICO PROLENE 8822 T 3-0 - JOHNSON &amp; J...</td>\n",
       "      <td>1</td>\n",
       "    </tr>\n",
       "    <tr>\n",
       "      <th>1228993</th>\n",
       "      <td>FIO CIRURGICO PDS Z304 H 4-0 - JOHNSON &amp; JOHNSON</td>\n",
       "      <td>1</td>\n",
       "    </tr>\n",
       "    <tr>\n",
       "      <th>1282129</th>\n",
       "      <td>FIO CIRURGICO VICRYL VCP316 H - JOHNSON &amp; JOHNSON</td>\n",
       "      <td>1</td>\n",
       "    </tr>\n",
       "    <tr>\n",
       "      <th>1284343</th>\n",
       "      <td>FIO CIRURGICO VICRYL VCP374 H 3-0 - JOHNSON &amp; ...</td>\n",
       "      <td>1</td>\n",
       "    </tr>\n",
       "    <tr>\n",
       "      <th>1286557</th>\n",
       "      <td>FIO CIRURGICO PROLENE 9523 T 2-0 - JOHNSON &amp; J...</td>\n",
       "      <td>1</td>\n",
       "    </tr>\n",
       "    <tr>\n",
       "      <th>1412755</th>\n",
       "      <td>FIO CIRURGICO VICRYL VCP375 H 2-0 - JOHNSON &amp; ...</td>\n",
       "      <td>1</td>\n",
       "    </tr>\n",
       "    <tr>\n",
       "      <th>1470319</th>\n",
       "      <td>FIO CIRURGICO MONOCRYL Y427 H 3-0 - JOHNSON &amp; ...</td>\n",
       "      <td>1</td>\n",
       "    </tr>\n",
       "    <tr>\n",
       "      <th>1492459</th>\n",
       "      <td>FIO CIRURGICO MONONYLON 1215 T 2-0 - JOHNSON &amp;...</td>\n",
       "      <td>1</td>\n",
       "    </tr>\n",
       "    <tr>\n",
       "      <th>1682863</th>\n",
       "      <td>FIO CIRURGICO FITA CARDIACA FAB46 T BC 7-0 - J...</td>\n",
       "      <td>1</td>\n",
       "    </tr>\n",
       "    <tr>\n",
       "      <th>1685077</th>\n",
       "      <td>FIO CIRURGICO PROLENE 8707 T 6-0 - JOHNSON &amp; J...</td>\n",
       "      <td>1</td>\n",
       "    </tr>\n",
       "    <tr>\n",
       "      <th>1687291</th>\n",
       "      <td>FIO CIRURGICO PROLENE 9556 T 5-0 - JOHNSON &amp; J...</td>\n",
       "      <td>1</td>\n",
       "    </tr>\n",
       "    <tr>\n",
       "      <th>1742641</th>\n",
       "      <td>FIO CIRURGICO MERSILENE SMV73 T 3-0 - JOHNSON ...</td>\n",
       "      <td>1</td>\n",
       "    </tr>\n",
       "    <tr>\n",
       "      <th>1744855</th>\n",
       "      <td>FIO CIRURGICO PROLENE M8703 T 7-0 - JOHNSON &amp; ...</td>\n",
       "      <td>1</td>\n",
       "    </tr>\n",
       "    <tr>\n",
       "      <th>1747069</th>\n",
       "      <td>FIO CIRURGICO SEDA SSP14 T 2-0 - JOHNSON E JOH...</td>\n",
       "      <td>1</td>\n",
       "    </tr>\n",
       "    <tr>\n",
       "      <th>1762567</th>\n",
       "      <td>FIO CIRURGICO PROLENE 9521 T 4-0 - JOHNSON &amp; J...</td>\n",
       "      <td>1</td>\n",
       "    </tr>\n",
       "    <tr>\n",
       "      <th>2249647</th>\n",
       "      <td>FIO CIRURGICO VICRYL VCP353 H 1-0 - JOHNSON E ...</td>\n",
       "      <td>1</td>\n",
       "    </tr>\n",
       "    <tr>\n",
       "      <th>2366989</th>\n",
       "      <td>FIO CIRURGICO VICRYL J183 G 3-0 - JOHNSON &amp; JO...</td>\n",
       "      <td>1</td>\n",
       "    </tr>\n",
       "    <tr>\n",
       "      <th>2464405</th>\n",
       "      <td>FIO CIRURGICO VICRYL VCP168 H 1-0 - JOHNSON &amp; ...</td>\n",
       "      <td>1</td>\n",
       "    </tr>\n",
       "    <tr>\n",
       "      <th>2519755</th>\n",
       "      <td>FIO CIRURGICO VICRYL VCP406 H 3-0 - JOHNSON &amp; ...</td>\n",
       "      <td>1</td>\n",
       "    </tr>\n",
       "    <tr>\n",
       "      <th>2643739</th>\n",
       "      <td>FIO CIRURGICO CERA PARA OSSO W31G 2.5G ESTERIL...</td>\n",
       "      <td>1</td>\n",
       "    </tr>\n",
       "    <tr>\n",
       "      <th>2645953</th>\n",
       "      <td>FIO CIRURGICO VICRYL J122 H 4-0 - JOHNSON E JO...</td>\n",
       "      <td>1</td>\n",
       "    </tr>\n",
       "    <tr>\n",
       "      <th>2654809</th>\n",
       "      <td>FIO CIRURGICO PROLENE 8512 T 3-0 - JOHNSON &amp; J...</td>\n",
       "      <td>1</td>\n",
       "    </tr>\n",
       "    <tr>\n",
       "      <th>2683591</th>\n",
       "      <td>FIO CIRURGICO CAPROFYL CF121 T 4-0</td>\n",
       "      <td>1</td>\n",
       "    </tr>\n",
       "    <tr>\n",
       "      <th>2723443</th>\n",
       "      <td>FIO CIRURGICO PROLENE 9557 T 4-0 - JOHNSON &amp; J...</td>\n",
       "      <td>1</td>\n",
       "    </tr>\n",
       "    <tr>\n",
       "      <th>2765509</th>\n",
       "      <td>FIO CIRURGICO VICRYL VCP310 H 4-0 - JOHNSON &amp; ...</td>\n",
       "      <td>1</td>\n",
       "    </tr>\n",
       "    <tr>\n",
       "      <th>2858497</th>\n",
       "      <td>FIO CIRURGICO VICRYL VCP376 H 0 - JOHNSON &amp; JO...</td>\n",
       "      <td>1</td>\n",
       "    </tr>\n",
       "    <tr>\n",
       "      <th>3082111</th>\n",
       "      <td>FIO CIRURGICO VICRYL J 535H 1-0</td>\n",
       "      <td>1</td>\n",
       "    </tr>\n",
       "    <tr>\n",
       "      <th>3104251</th>\n",
       "      <td>FIO CIRURGICO MONONYLON 14503T T 3-0</td>\n",
       "      <td>1</td>\n",
       "    </tr>\n",
       "    <tr>\n",
       "      <th>3119749</th>\n",
       "      <td>FIO CIRURGICO VICRYL J 316 H 3-0</td>\n",
       "      <td>1</td>\n",
       "    </tr>\n",
       "    <tr>\n",
       "      <th>3281371</th>\n",
       "      <td>FIO CIRURGICO CAPROFYL CF122T H 3-0 - JOHNSON ...</td>\n",
       "      <td>1</td>\n",
       "    </tr>\n",
       "    <tr>\n",
       "      <th>3378787</th>\n",
       "      <td>FIO CIRURGICO CATGUT SIMPLES G318 T 3-0 - JOHN...</td>\n",
       "      <td>1</td>\n",
       "    </tr>\n",
       "    <tr>\n",
       "      <th>3487273</th>\n",
       "      <td>FIO CIRURGICO MONONYLON P1602 T 5-0 - JOHNSON ...</td>\n",
       "      <td>1</td>\n",
       "    </tr>\n",
       "    <tr>\n",
       "      <th>3489487</th>\n",
       "      <td>FIO CIRURGICO MONONYLON P1611 T 4-0 - JOHNSON ...</td>\n",
       "      <td>1</td>\n",
       "    </tr>\n",
       "    <tr>\n",
       "      <th>3498343</th>\n",
       "      <td>FIO CIRURGICO MONONYLON P1661 T 5-0 - JOHNSON ...</td>\n",
       "      <td>1</td>\n",
       "    </tr>\n",
       "    <tr>\n",
       "      <th>3578047</th>\n",
       "      <td>FIO CIRURGICO PROLENE 8424 T 0 - JOHNSON &amp; JOH...</td>\n",
       "      <td>1</td>\n",
       "    </tr>\n",
       "    <tr>\n",
       "      <th>3693189</th>\n",
       "      <td>FIO CIRURGICO PROLENE AZUL 8411 T 2-0 CT-2 PLU...</td>\n",
       "      <td>1</td>\n",
       "    </tr>\n",
       "    <tr>\n",
       "      <th>3865867</th>\n",
       "      <td>FIO CIRURGICO PDS Z352 H 0 - JOHNSON &amp; JOHNSON</td>\n",
       "      <td>1</td>\n",
       "    </tr>\n",
       "    <tr>\n",
       "      <th>3912361</th>\n",
       "      <td>FIO CIRURGICO MONONYLON P1666 T 5-0 - JOHNSON ...</td>\n",
       "      <td>1</td>\n",
       "    </tr>\n",
       "    <tr>\n",
       "      <th>4140403</th>\n",
       "      <td>FIO CIRURGICO PDP 880 G 1 - JOHNSON &amp; JOHNSON</td>\n",
       "      <td>1</td>\n",
       "    </tr>\n",
       "    <tr>\n",
       "      <th>4142617</th>\n",
       "      <td>FIO CIRURGICO SEDA SSP13 T 3-0 - JOHNSON &amp; JOH...</td>\n",
       "      <td>1</td>\n",
       "    </tr>\n",
       "    <tr>\n",
       "      <th>4164771</th>\n",
       "      <td>FIO CIRURGICO MONOCRYL4-0 S/A REF:XYY426H</td>\n",
       "      <td>1</td>\n",
       "    </tr>\n",
       "    <tr>\n",
       "      <th>4335235</th>\n",
       "      <td>FIO CIRURGICO SEDA G812 T 3-0 - JOHNSON &amp; JOHNSON</td>\n",
       "      <td>1</td>\n",
       "    </tr>\n",
       "    <tr>\n",
       "      <th>4388371</th>\n",
       "      <td>FIO CIRURGICO PROLENE 8704 T 7-0 - JOHNSON &amp; J...</td>\n",
       "      <td>1</td>\n",
       "    </tr>\n",
       "    <tr>\n",
       "      <th>4532281</th>\n",
       "      <td>FIO CIRURGICO ACIFLEX M653 G-5 - JOHNSON &amp; JOH...</td>\n",
       "      <td>1</td>\n",
       "    </tr>\n",
       "    <tr>\n",
       "      <th>4534495</th>\n",
       "      <td>FIO CIRURGICO ETHIBOND BP93 T 2-0 - JOHNSON &amp; ...</td>\n",
       "      <td>1</td>\n",
       "    </tr>\n",
       "    <tr>\n",
       "      <th>4536709</th>\n",
       "      <td>FIO CIRURGICO MARCAPASSO 2EP15 2-0 2X60 - JOHN...</td>\n",
       "      <td>1</td>\n",
       "    </tr>\n",
       "    <tr>\n",
       "      <th>4538923</th>\n",
       "      <td>FIO CIRURGICO VICRYL VCP340 H 0 - JOHNSON &amp; JO...</td>\n",
       "      <td>1</td>\n",
       "    </tr>\n",
       "    <tr>\n",
       "      <th>4569919</th>\n",
       "      <td>FIO CIRURGICO PDS II Z339 2-0- JOHNSON &amp; JOHNSON</td>\n",
       "      <td>1</td>\n",
       "    </tr>\n",
       "    <tr>\n",
       "      <th>4585417</th>\n",
       "      <td>FIO CIRURGICO VICRYL XYJ316H 3-0</td>\n",
       "      <td>1</td>\n",
       "    </tr>\n",
       "    <tr>\n",
       "      <th>524941</th>\n",
       "      <td>FIO CIRURGICO MONONYLON P1663 T 3-0 - JOHNSON ...</td>\n",
       "      <td>1</td>\n",
       "    </tr>\n",
       "  </tbody>\n",
       "</table>\n",
       "</div>"
      ],
      "text/plain": [
       "                                                     itens  predito\n",
       "524941   FIO CIRURGICO MONONYLON P1662 T 4-0 - JOHNSON ...        1\n",
       "706489   FIO CIRURGICO MONONYLON P1664 T 4-0 - JOHNSON ...        1\n",
       "761839   FIO CIRURGICO CATGUT SIMPLES 853 T 2-0 - JOHNS...        1\n",
       "803905                  FIO CIRURGICO MONONYLON 1163 T 3-0        1\n",
       "845971   FIO CIRURGICO MONOCRYL Y495 H5-0 - JOHNSON E J...        1\n",
       "848185   FIO CIRURGICO VICRYL VCP304 H 4-0 - JOHNSON & ...        1\n",
       "914605   FIO CIRURGICO SEDA G813 T 2-0 - JOHNSON & JOHNSON        1\n",
       "919033   FIO CIRURGICO VICRYL VCP333 H 2-0 - JOHNSON & ...        1\n",
       "950029   FIO CIRURGICO PROLENE P8682 T 4-0 - JOHNSON & ...        1\n",
       "961099   FIO CIRURGICO VICRYL VCP351 H 2-0 - JOHNSON & ...        1\n",
       "1060729  FIO CIRURGICO PROLENE 8822 T 3-0 - JOHNSON & J...        1\n",
       "1228993   FIO CIRURGICO PDS Z304 H 4-0 - JOHNSON & JOHNSON        1\n",
       "1282129  FIO CIRURGICO VICRYL VCP316 H - JOHNSON & JOHNSON        1\n",
       "1284343  FIO CIRURGICO VICRYL VCP374 H 3-0 - JOHNSON & ...        1\n",
       "1286557  FIO CIRURGICO PROLENE 9523 T 2-0 - JOHNSON & J...        1\n",
       "1412755  FIO CIRURGICO VICRYL VCP375 H 2-0 - JOHNSON & ...        1\n",
       "1470319  FIO CIRURGICO MONOCRYL Y427 H 3-0 - JOHNSON & ...        1\n",
       "1492459  FIO CIRURGICO MONONYLON 1215 T 2-0 - JOHNSON &...        1\n",
       "1682863  FIO CIRURGICO FITA CARDIACA FAB46 T BC 7-0 - J...        1\n",
       "1685077  FIO CIRURGICO PROLENE 8707 T 6-0 - JOHNSON & J...        1\n",
       "1687291  FIO CIRURGICO PROLENE 9556 T 5-0 - JOHNSON & J...        1\n",
       "1742641  FIO CIRURGICO MERSILENE SMV73 T 3-0 - JOHNSON ...        1\n",
       "1744855  FIO CIRURGICO PROLENE M8703 T 7-0 - JOHNSON & ...        1\n",
       "1747069  FIO CIRURGICO SEDA SSP14 T 2-0 - JOHNSON E JOH...        1\n",
       "1762567  FIO CIRURGICO PROLENE 9521 T 4-0 - JOHNSON & J...        1\n",
       "2249647  FIO CIRURGICO VICRYL VCP353 H 1-0 - JOHNSON E ...        1\n",
       "2366989  FIO CIRURGICO VICRYL J183 G 3-0 - JOHNSON & JO...        1\n",
       "2464405  FIO CIRURGICO VICRYL VCP168 H 1-0 - JOHNSON & ...        1\n",
       "2519755  FIO CIRURGICO VICRYL VCP406 H 3-0 - JOHNSON & ...        1\n",
       "2643739  FIO CIRURGICO CERA PARA OSSO W31G 2.5G ESTERIL...        1\n",
       "2645953  FIO CIRURGICO VICRYL J122 H 4-0 - JOHNSON E JO...        1\n",
       "2654809  FIO CIRURGICO PROLENE 8512 T 3-0 - JOHNSON & J...        1\n",
       "2683591                 FIO CIRURGICO CAPROFYL CF121 T 4-0        1\n",
       "2723443  FIO CIRURGICO PROLENE 9557 T 4-0 - JOHNSON & J...        1\n",
       "2765509  FIO CIRURGICO VICRYL VCP310 H 4-0 - JOHNSON & ...        1\n",
       "2858497  FIO CIRURGICO VICRYL VCP376 H 0 - JOHNSON & JO...        1\n",
       "3082111                    FIO CIRURGICO VICRYL J 535H 1-0        1\n",
       "3104251               FIO CIRURGICO MONONYLON 14503T T 3-0        1\n",
       "3119749                   FIO CIRURGICO VICRYL J 316 H 3-0        1\n",
       "3281371  FIO CIRURGICO CAPROFYL CF122T H 3-0 - JOHNSON ...        1\n",
       "3378787  FIO CIRURGICO CATGUT SIMPLES G318 T 3-0 - JOHN...        1\n",
       "3487273  FIO CIRURGICO MONONYLON P1602 T 5-0 - JOHNSON ...        1\n",
       "3489487  FIO CIRURGICO MONONYLON P1611 T 4-0 - JOHNSON ...        1\n",
       "3498343  FIO CIRURGICO MONONYLON P1661 T 5-0 - JOHNSON ...        1\n",
       "3578047  FIO CIRURGICO PROLENE 8424 T 0 - JOHNSON & JOH...        1\n",
       "3693189  FIO CIRURGICO PROLENE AZUL 8411 T 2-0 CT-2 PLU...        1\n",
       "3865867     FIO CIRURGICO PDS Z352 H 0 - JOHNSON & JOHNSON        1\n",
       "3912361  FIO CIRURGICO MONONYLON P1666 T 5-0 - JOHNSON ...        1\n",
       "4140403      FIO CIRURGICO PDP 880 G 1 - JOHNSON & JOHNSON        1\n",
       "4142617  FIO CIRURGICO SEDA SSP13 T 3-0 - JOHNSON & JOH...        1\n",
       "4164771          FIO CIRURGICO MONOCRYL4-0 S/A REF:XYY426H        1\n",
       "4335235  FIO CIRURGICO SEDA G812 T 3-0 - JOHNSON & JOHNSON        1\n",
       "4388371  FIO CIRURGICO PROLENE 8704 T 7-0 - JOHNSON & J...        1\n",
       "4532281  FIO CIRURGICO ACIFLEX M653 G-5 - JOHNSON & JOH...        1\n",
       "4534495  FIO CIRURGICO ETHIBOND BP93 T 2-0 - JOHNSON & ...        1\n",
       "4536709  FIO CIRURGICO MARCAPASSO 2EP15 2-0 2X60 - JOHN...        1\n",
       "4538923  FIO CIRURGICO VICRYL VCP340 H 0 - JOHNSON & JO...        1\n",
       "4569919   FIO CIRURGICO PDS II Z339 2-0- JOHNSON & JOHNSON        1\n",
       "4585417                   FIO CIRURGICO VICRYL XYJ316H 3-0        1\n",
       "524941   FIO CIRURGICO MONONYLON P1663 T 3-0 - JOHNSON ...        1"
      ]
     },
     "execution_count": 92,
     "metadata": {},
     "output_type": "execute_result"
    }
   ],
   "source": [
    "group_fio_mono = group_similarity(df_fio_monolion, 'item_A', 'item_B')\n",
    "group_fio_mono"
   ]
  },
  {
   "cell_type": "code",
   "execution_count": 93,
   "metadata": {},
   "outputs": [
    {
     "data": {
      "text/plain": [
       "(60, 2)"
      ]
     },
     "execution_count": 93,
     "metadata": {},
     "output_type": "execute_result"
    }
   ],
   "source": [
    "group_fio_mono.shape"
   ]
  },
  {
   "cell_type": "markdown",
   "metadata": {},
   "source": [
    "- Refinando o modelo com regex"
   ]
  },
  {
   "cell_type": "code",
   "execution_count": 94,
   "metadata": {},
   "outputs": [],
   "source": [
    "regex = re.compile(r'\\b(\\w+\\s+\\w+\\s+\\w+)\\b')\n",
    "\n",
    "fio_monolion = regex_similarity('FIO CIRURGICO MONONYLON', regex, group_fio_mono['itens'])"
   ]
  },
  {
   "cell_type": "code",
   "execution_count": 95,
   "metadata": {},
   "outputs": [],
   "source": [
    "group_fio_mono = group_fio_mono[group_fio_mono['itens'].isin(fio_monolion)]"
   ]
  },
  {
   "cell_type": "code",
   "execution_count": 96,
   "metadata": {},
   "outputs": [
    {
     "data": {
      "text/plain": [
       "(10, 2)"
      ]
     },
     "execution_count": 96,
     "metadata": {},
     "output_type": "execute_result"
    }
   ],
   "source": [
    "group_fio_mono.shape"
   ]
  },
  {
   "cell_type": "code",
   "execution_count": 97,
   "metadata": {},
   "outputs": [],
   "source": [
    "group_fio_mono.to_excel('data/refined_group/fio_mono.xlsx')"
   ]
  },
  {
   "cell_type": "markdown",
   "metadata": {},
   "source": [
    "## Filtrando frauda"
   ]
  },
  {
   "cell_type": "code",
   "execution_count": null,
   "metadata": {},
   "outputs": [],
   "source": [
    "df_similaridade[df_similaridade['item_B'].isin(list_frauda)].query('valor_similaridade >= 0.9')"
   ]
  },
  {
   "cell_type": "code",
   "execution_count": null,
   "metadata": {},
   "outputs": [],
   "source": [
    "group_frauda = df_similaridade[df_similaridade['item_B'].isin(list_frauda)].query('valor_similaridade >= 0.8')"
   ]
  },
  {
   "cell_type": "markdown",
   "metadata": {},
   "source": [
    "- Agrupando itens das colunas itens_A e itens_B"
   ]
  },
  {
   "cell_type": "code",
   "execution_count": null,
   "metadata": {},
   "outputs": [],
   "source": [
    "group_frauda = group_similarity(group_frauda, 'item_A', 'item_B')\n",
    "group_frauda"
   ]
  },
  {
   "cell_type": "markdown",
   "metadata": {},
   "source": [
    "## Filtro Sonda"
   ]
  },
  {
   "cell_type": "code",
   "execution_count": null,
   "metadata": {},
   "outputs": [],
   "source": [
    "df_similaridade[df_similaridade['item_B'].isin(list_sonda)].query('valor_similaridade >= 0.9')"
   ]
  },
  {
   "cell_type": "code",
   "execution_count": null,
   "metadata": {},
   "outputs": [],
   "source": [
    "group_sonda_foley = df_similaridade[df_similaridade['item_B'].isin(list_sonda)].query('valor_similaridade >= 0.8')"
   ]
  },
  {
   "cell_type": "markdown",
   "metadata": {},
   "source": [
    "- Agrupando itens das colunas itens_A e itens_B"
   ]
  },
  {
   "cell_type": "code",
   "execution_count": null,
   "metadata": {},
   "outputs": [],
   "source": [
    "group_sonda_foley = group_similarity(group_sonda_foley, 'item_A', 'item_B')\n",
    "group_sonda_foley"
   ]
  }
 ],
 "metadata": {
  "interpreter": {
   "hash": "916dbcbb3f70747c44a77c7bcd40155683ae19c65e1c03b4aa3499c5328201f1"
  },
  "kernelspec": {
   "display_name": "Python 3 (ipykernel)",
   "language": "python",
   "name": "python3"
  },
  "language_info": {
   "codemirror_mode": {
    "name": "ipython",
    "version": 3
   },
   "file_extension": ".py",
   "mimetype": "text/x-python",
   "name": "python",
   "nbconvert_exporter": "python",
   "pygments_lexer": "ipython3",
   "version": "3.8.10"
  }
 },
 "nbformat": 4,
 "nbformat_minor": 4
}
